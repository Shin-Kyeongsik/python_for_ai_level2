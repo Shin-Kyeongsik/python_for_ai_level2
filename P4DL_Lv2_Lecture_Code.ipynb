{
 "cells": [
  {
   "cell_type": "markdown",
   "metadata": {
    "pycharm": {
     "name": "#%% md\n"
    }
   },
   "source": [
    "# Exercise Group.1: Jupyter Notebook 활용팁"
   ]
  },
  {
   "cell_type": "markdown",
   "metadata": {
    "pycharm": {
     "name": "#%% md\n"
    }
   },
   "source": [
    "## Exercise.2 - 1: Jupyter Notebook에서 Markdown 사용하기\n",
    "\n",
    "Jupyter Notebook의 가장 큰 장점 중 하나는, Python code와 문서작업이 동시에 가능하다는 것입니다. <br>\n",
    "그리고 Jupyter Notebook에서는 이 Markdown을 통해 문서작업이 가능합니다.\n",
    "\n",
    "**Jupyter Notebook Mode**<br>\n",
    "Jupyter Notebook에서는 edit mode와 command mode로 나눠집니다.<br>\n",
    "edit mode에서는 셀을 복사, 삭제하는 등, 셀에 대한 편집이 가능합니다.<br>\n",
    "command mode에서는 셀 안에서 코드를 작성하거나 Markdown을 작성하는 등의 셀의 내용에 대한 편집이 가능합니다.<br>\n",
    "\n",
    "Jupyter Notebook을 실행하면 처음 만들어진 셀 안에서 command mode로 실행됩니다.<br>\n",
    "이때 edit mode로 바꾸기 위해선 ESC키를 누릅니다.<br>\n",
    "그리고 수정을 원하는 cell에서 Enter를 누르면 해당 셀에서 command mode로 전환됩니다.<br>\n",
    "\n",
    "**Cell의 종류**<br>\n",
    "Jupyter Notebook에서 cell은 3가지로 나눠집니다. 이 중에서 여러분들이 알아야 할 셀의 종류는 다음과 같습니다.\n",
    "<ol>\n",
    "    <li> Markdown cell </li>\n",
    "    <li> Code cell </li>\n",
    "</ol>\n",
    "\n",
    "**Cell 전환**<br>\n",
    "Edit mode에서 원하는셀에서\n",
    "<ul>\n",
    "    <li> M: Markdown cell로 전환</li>\n",
    "    <li> Y: Code cell로 전환</li>\n",
    "</ul>\n",
    "\n",
    "**Heading 설정**<br>\n",
    "Markdown에서 #로 시작하는 줄은 heading이 됩니다.\n",
    "<ul>\n",
    "    <li> #: Heading level1 </li>\n",
    "    <li> ##: Heading level2 </li>\n",
    "    <li> ###: Heading level3 </li>\n",
    "    <li> ####: Heading Level4 </li>\n",
    "</ul>\n",
    "Heading을 작성하고 nbextension의 [Table of Contents]를 사용하면 더 효율적인 프로그래밍이 가능합니다.\n",
    "\n",
    "**Markdown + HTML/Latex**<br>\n",
    "Jupyter Notebook에서 문서를 작성할 때 HTML의 tab와 Latex를 이용한 수식 입력이 가능합니다.<br>\n",
    "본 셀을 실행시켜보면, 실제로 다양한 HTML tab를 확인할 수 있으며, <br>\n",
    "HTML tag뿐만 아니라 다음과 같이 Latex를 이용한 수식 입력도 가능합니다.\n",
    "\n",
    "<font size=\"5\">\n",
    "    <center>\n",
    "        $\\mathcal{L} = \\frac{1}{n}\\sum_{i=1}^{n}\\big(y^{(i)} - \\hat{y}^{(i)} \\big)^{2}$\n",
    "    </center>\n",
    "</font>"
   ]
  },
  {
   "cell_type": "markdown",
   "metadata": {
    "pycharm": {
     "name": "#%% md\n"
    }
   },
   "source": [
    "## Exercise.2 - 2: Jupyter Notebook 단축키 사용하기\n",
    "개인적으로 Jupyter Notebook을 이용하여 코딩을 할 때, 단축키를 많이 아는 만큼 생산성이 크게 높아진다고 느낍니다.<br>\n",
    "다음은 기본적으로 사용되는 단축키 입니다. 마치 고등학교 때 영어 단어를 외우듯이 기본적인 단축키부터<br>\n",
    "점점 더 advanced된 단축키들을 외우시길 권장드립니다\n",
    "\n",
    "<ul>\n",
    "    <li> A: 위에 셀 삽입 </li>\n",
    "    <li> B: 아래에 셀 삽입 </li><br>\n",
    "    <li> Shift + A: 위에 heading cell 삽입 </li>\n",
    "    <li> Shift + B: 아래에 heading cell 삽입 </li><br>\n",
    "    <li> 1, 2, 3, 4: heading level 설정하기 </li><br>\n",
    "    <li> C: 셀 복사 </li>\n",
    "    <li> X: 셀 잘라내기 </li>\n",
    "    <li> D: 셀 삭제 </li>\n",
    "    <li> Z: 삭제/잘라내기 취소 </li><br>\n",
    "    <li> Command + Enter: cell 실행만 시키기 </li>\n",
    "    <li> Shift + Enger: cell 실행하고 다음 셀로 이동 </li>\n",
    "    <li> Option + Enter: cell 실행하고 아래에 새로운 셀 만들기 </li>\n",
    "</ul>"
   ]
  },
  {
   "cell_type": "markdown",
   "metadata": {
    "pycharm": {
     "name": "#%% md\n"
    }
   },
   "source": [
    "## Exercise.2 - 3: Jupyter Notebook Extension 사용하기\n",
    "**Extension 환결 설정**<br>\n",
    "conda install -c conda-forge jupyter_contrib_nbextensions <br>\n",
    "jupyter contrib nbextension install --user"
   ]
  },
  {
   "cell_type": "markdown",
   "metadata": {
    "pycharm": {
     "name": "#%% md\n"
    }
   },
   "source": [
    "# Exercise Group.2: For Loop 확장하기"
   ]
  },
  {
   "cell_type": "markdown",
   "metadata": {
    "pycharm": {
     "name": "#%% md\n"
    }
   },
   "source": [
    "## Exercise.2 - 4: for + break\n",
    "for문에 사용되는 break의 기본적인 사용법을 익힙니다.<br>\n",
    "break을 통해 for문을 원하는 횟수많큼 반복시키는 방법을 연습합니다."
   ]
  },
  {
   "cell_type": "code",
   "execution_count": null,
   "metadata": {
    "pycharm": {
     "name": "#%%\n"
    }
   },
   "outputs": [],
   "source": [
    "scores = [10, 20, 30, 40, 50]\n",
    "\n",
    "for score in scores:\n",
    "    print(score)\n",
    "    break\n",
    "\n",
    "print('=====')\n",
    "for score_idx in range(len(scores)):\n",
    "    print(scores[score_idx])\n",
    "    if score_idx == 2: break"
   ]
  },
  {
   "cell_type": "markdown",
   "metadata": {
    "pycharm": {
     "name": "#%% md\n"
    }
   },
   "source": [
    "## Exercise.2 - 5: 최초 합격자 구하기\n",
    "for문에 사용되는 break는 원하는 결과가 나오면 for문의 실행을 중지합니다.<br>\n",
    "이로써 프로그램의 불필요한 연산을 줄일 수 있습니다."
   ]
  },
  {
   "cell_type": "code",
   "execution_count": null,
   "metadata": {
    "pycharm": {
     "name": "#%%\n"
    }
   },
   "outputs": [],
   "source": [
    "scores = [30, 50, 90, 70, 30, 95, 40]\n",
    "cutoff = 90\n",
    "\n",
    "first_pass_idx = None\n",
    "for score_idx in range(len(scores)):\n",
    "    score = scores[score_idx]\n",
    "    print(\"current score: \", score)\n",
    "    if score >= cutoff and first_pass_idx == None:\n",
    "        first_pass_idx = score_idx\n",
    "        break\n",
    "\n",
    "print(\"First passed student(idx, score): \", score_idx, '/', score)"
   ]
  },
  {
   "cell_type": "markdown",
   "metadata": {
    "pycharm": {
     "name": "#%% md\n"
    }
   },
   "source": [
    "## Exercise.2 - 6: Histogram\n",
    "break을 이용하여 효율적인 histogram algorithm을 구현해봅니다.<br>\n",
    "**(참고)**\n",
    "이 histogram은 뒤에 random data를 만들 때 결과를 확인하기 위해 다시 사용됩니다."
   ]
  },
  {
   "cell_type": "code",
   "execution_count": null,
   "metadata": {
    "pycharm": {
     "name": "#%%\n"
    }
   },
   "outputs": [],
   "source": [
    "scores = [10, 30, 20, 60, 20, 10, 50, 15, 99]\n",
    "\n",
    "# histogram parameters setting\n",
    "n_bin = 5\n",
    "hist_range = [0, 100]\n",
    "\n",
    "# histogram initialization\n",
    "interval = (hist_range[1] - hist_range[0])/n_bin\n",
    "cutoffs = list()\n",
    "hist = list()\n",
    "\n",
    "for cutoff in range(n_bin):\n",
    "    cutoff = interval*cutoff\n",
    "    cutoffs.append(cutoff)\n",
    "    hist.append(0)\n",
    "# hist = [0, 0, 0, 0, 0]\n",
    "  \n",
    "# calculate histogram\n",
    "for score in scores:\n",
    "    for cutoff_idx in range(n_bin):\n",
    "        cutoff = cutoffs[cutoff_idx]\n",
    "        diff = score - cutoff\n",
    "        \n",
    "        if diff >= 0 and diff < interval:\n",
    "            hist[cutoff_idx] += 1\n",
    "            print(score, cutoff, diff, hist)\n",
    "            break\n",
    "\n",
    "print(\"\\nHistogram: \", hist)"
   ]
  },
  {
   "cell_type": "markdown",
   "metadata": {
    "pycharm": {
     "name": "#%% md\n"
    }
   },
   "source": [
    "# Exercise Group.3: Tuple and zip"
   ]
  },
  {
   "cell_type": "markdown",
   "metadata": {
    "pycharm": {
     "name": "#%% md\n"
    }
   },
   "source": [
    "## Exercise.2 - 7: Tuple\n",
    "List와 비슷하지만 수정불가능한(immutable) 객체인 tuple을 알아봅니다."
   ]
  },
  {
   "cell_type": "code",
   "execution_count": null,
   "metadata": {
    "pycharm": {
     "name": "#%%\n"
    }
   },
   "outputs": [],
   "source": [
    "scores = (30, 50, 90, 70)\n",
    "print(scores)\n",
    "\n",
    "scores[0] = 10"
   ]
  },
  {
   "cell_type": "markdown",
   "metadata": {
    "pycharm": {
     "name": "#%% md\n"
    }
   },
   "source": [
    "## Exercise.2 - 8: Tuple Packing & Unpakcing\n",
    "여러개의 값을 하나의 변수에 할당할 때 일어나는 Packing과 <br>\n",
    "하나의 tuple/list를 여러개의 변수에 할당할 때 일어나느 Unpacking에 대해 알아봅니다."
   ]
  },
  {
   "cell_type": "code",
   "execution_count": null,
   "metadata": {
    "pycharm": {
     "name": "#%%\n"
    }
   },
   "outputs": [],
   "source": [
    "scores = 10, 20\n",
    "print(scores)\n",
    "\n",
    "score1, score2 = (30, 50)\n",
    "print(score1, score2)"
   ]
  },
  {
   "cell_type": "markdown",
   "metadata": {
    "pycharm": {
     "name": "#%% md\n"
    }
   },
   "source": [
    "## Exercise.2 - 9: for + zip\n",
    "for와 zip을 함께 사용하여 여러개의 list에 접근하는 방법에 대해 연습합니다.<br>\n",
    "zip을 사용하면 여러개의 list에 접근할 때 indexing을 통한 접근을 대체할 수 있습니다."
   ]
  },
  {
   "cell_type": "code",
   "execution_count": null,
   "metadata": {
    "pycharm": {
     "name": "#%%\n"
    }
   },
   "outputs": [],
   "source": [
    "m_scores = [10, 20, 30]\n",
    "e_scores = [50, 30, 10]\n",
    "\n",
    "for data in zip(m_scores, e_scores):\n",
    "    print(data)\n",
    "    \n",
    "for m_score, e_score in zip(m_scores, e_scores):\n",
    "    print(m_score, e_score)"
   ]
  },
  {
   "cell_type": "markdown",
   "metadata": {
    "pycharm": {
     "name": "#%% md\n"
    }
   },
   "source": [
    "## Exercise.2 - 10: Manhattan Distance\n",
    "for와 zip을 이용하여 Manhattan distance를 더 쉽게 구하는 방법을 알아봅니다. <br>\n",
    "if, elif, else가 간단할 때 한 줄로 표현하는 방법을 익혀봅니다."
   ]
  },
  {
   "cell_type": "code",
   "execution_count": null,
   "metadata": {
    "pycharm": {
     "name": "#%%\n"
    }
   },
   "outputs": [],
   "source": [
    "v1 = [1, 3, 5, 2, 1, 5, 2]\n",
    "v2 = [2, 3, 1, 5, 2, 1, 3]\n",
    "\n",
    "m_distance = 0\n",
    "for v1_val, v2_val in zip(v1, v2):\n",
    "    sub = v1_val - v2_val\n",
    "    \n",
    "    # accumulate the absolute values\n",
    "    if sub < 0: m_distance += -sub\n",
    "    else: m_distance += sub\n",
    "        \n",
    "print(\"Manhattan Distance: \", m_distance)"
   ]
  },
  {
   "cell_type": "markdown",
   "metadata": {
    "pycharm": {
     "name": "#%% md\n"
    }
   },
   "source": [
    "# Exercise Group.4: Tuple Unpacking & zip 연습"
   ]
  },
  {
   "cell_type": "markdown",
   "metadata": {
    "pycharm": {
     "name": "#%% md\n"
    }
   },
   "source": [
    "## Exercise.2 - 11: 두 과목의 평균 구하기\n",
    "zip을 사용할 때 일어나는 unpacking에 대해 생각해보고,<br>\n",
    "Lv.1에서 배운 두 과목의 평균을 구하는 과정을 복습합니다."
   ]
  },
  {
   "cell_type": "code",
   "execution_count": null,
   "metadata": {
    "pycharm": {
     "name": "#%%\n"
    }
   },
   "outputs": [],
   "source": [
    "m_scores = [40, 60, 80]\n",
    "e_scores = [30, 40, 50]\n",
    "class_names = ['math', 'english']\n",
    "\n",
    "n_class = 2\n",
    "n_student = len(m_scores)\n",
    "\n",
    "# initialize the two sums & means as lists\n",
    "score_sums = [0, 0]\n",
    "score_means = list()\n",
    "\n",
    "# calculate the sums\n",
    "for m_score, e_score in zip(m_scores, e_scores):\n",
    "    score_sums[0] += m_score\n",
    "    score_sums[1] += e_score\n",
    "\n",
    "# calculate and save the means\n",
    "for class_idx in range(n_class):\n",
    "    mean = score_sums[class_idx]/n_student\n",
    "    score_means.append(mean)\n",
    "    print(\"Mean of\", class_names[class_idx], 'class: ', mean)"
   ]
  },
  {
   "cell_type": "markdown",
   "metadata": {
    "pycharm": {
     "name": "#%% md\n"
    }
   },
   "source": [
    "## Exercise.2 - 12: Accuracy 구하기\n",
    "zip을 이용하여 2개의 vector에 대한 원소별 접근을 연습해봅니다. <br>\n",
    "accuracy를 구하는 과정에 대해 복습합니다"
   ]
  },
  {
   "cell_type": "code",
   "execution_count": null,
   "metadata": {
    "pycharm": {
     "name": "#%%\n"
    }
   },
   "outputs": [],
   "source": [
    "# predictions, labels as vectors\n",
    "predictions = [0, 1, 0, 2, 1, 2, 0]\n",
    "labels = [1, 1, 0, 0, 1, 2, 1]\n",
    "\n",
    "# calculated the required n_ data\n",
    "n_data = len(predictions)\n",
    "n_correct = 0\n",
    "\n",
    "# count the element-wise equal values\n",
    "for pred, label in zip(predictions, labels):\n",
    "    if pred == label: n_correct += 1\n",
    "\n",
    "accuracy = n_correct/n_data\n",
    "print(\"accuracy: \", accuracy)"
   ]
  },
  {
   "cell_type": "markdown",
   "metadata": {
    "pycharm": {
     "name": "#%% md\n"
    }
   },
   "source": [
    "## Exercise.2 - 13: Accuracy 구하기(2)\n",
    "2차원 data가 주어졌을 때 zip의 사용법에 대해 알아봅니다. <br>\n",
    "one-hot vector로 주어진 prediction, label에 대해 accuracy를 구하는 과정을 복습합니다."
   ]
  },
  {
   "cell_type": "code",
   "execution_count": null,
   "metadata": {
    "pycharm": {
     "name": "#%%\n"
    }
   },
   "outputs": [],
   "source": [
    "# predictions, labels as one-hot vectors\n",
    "labels = [[1, 0, 0, 0],\n",
    "          [0, 1, 0, 0],\n",
    "          [0, 0, 1, 0],\n",
    "          [0, 1, 0, 0],\n",
    "          [1, 0, 0, 0],\n",
    "          [0, 0, 0, 1]]\n",
    "predictions = [[1, 0, 0, 0],\n",
    "               [0, 0, 1, 0],\n",
    "               [0, 0, 1, 0],\n",
    "               [1, 0, 0, 0],\n",
    "               [1, 0, 0, 0],\n",
    "               [0, 0, 0, 1]]\n",
    "\n",
    "# calculate the required n_ data\n",
    "n_pred = len(labels)\n",
    "n_class = len(labels[0])\n",
    "\n",
    "# calculate the accuracy\n",
    "accuracy = 0\n",
    "for label, pred in zip(labels, predictions): # label, pred are one-hot vectors\n",
    "    # initialize the count up variable as 0\n",
    "    correct_cnt = 0\n",
    "    \n",
    "    # count the number of element-wise equalities\n",
    "    for l, p in zip(label, pred):\n",
    "        if l == p: correct_cnt += 1\n",
    "            \n",
    "    # check all elements are equal\n",
    "    if correct_cnt == n_class: accuracy += 1\n",
    "accuracy /= n_pred\n",
    "\n",
    "print(\"accuracy: \", accuracy)"
   ]
  },
  {
   "cell_type": "markdown",
   "metadata": {
    "pycharm": {
     "name": "#%% md\n"
    }
   },
   "source": [
    "## Exercise.2 - 14: Euclidean Distance\n",
    "zip을 이용해 matrix로 주어진 data에 대해 Euclidean distance를 구해봅니다. <br>\n",
    "**(참고)** 이후 Mini-project에서 빈번하게 등장하는 연산입니다"
   ]
  },
  {
   "cell_type": "code",
   "execution_count": null,
   "metadata": {
    "pycharm": {
     "name": "#%%\n"
    }
   },
   "outputs": [],
   "source": [
    "# two column vectors are aligned in a matrix\n",
    "vectors = [[1, 11],\n",
    "           [2, 12],\n",
    "           [3, 13],\n",
    "           [4, 14]]\n",
    "\n",
    "e_distance = 0\n",
    "# access each dimension values\n",
    "for v1, v2 in vectors:\n",
    "    e_distance += (v1 - v2)**2\n",
    "e_distance **= 0.5\n",
    "print(\"Euclidean distance between v1 and v2: \", e_distance)"
   ]
  },
  {
   "cell_type": "markdown",
   "metadata": {
    "pycharm": {
     "name": "#%% md\n"
    }
   },
   "source": [
    "## Exercise.2 - 15: 과목별 평균 구하기\n",
    "Matrix로 주어진 2차원 점수 data에 대해 과목별 평균을 구해봅니다. <br>\n",
    "각 과목별로 다른 연산을 해야하는 상황에서 zip을 사용하는 장점에 대해 생각해봅니다. <br>\n",
    "list에 integer를 곱하는 연산에 대해 배우고, 사용예를 확인합니다."
   ]
  },
  {
   "cell_type": "code",
   "execution_count": null,
   "metadata": {
    "pycharm": {
     "name": "#%%\n"
    }
   },
   "outputs": [],
   "source": [
    "# scores are given by a matrix\n",
    "scores = [[10, 15, 20],\n",
    "          [20, 25, 30],\n",
    "          [30, 35, 40],\n",
    "          [40, 45, 50]]\n",
    "\n",
    "# calculate the required n_ data\n",
    "n_student = len(scores)\n",
    "n_class = len(scores[0])\n",
    "\n",
    "# initialize the means as list\n",
    "score_means = [0]*n_class\n",
    "\n",
    "# accumulate the classes' scores\n",
    "for k_score, e_score, m_score in scores:\n",
    "    score_means[0] += k_score\n",
    "    score_means[1] += e_score\n",
    "    score_means[2] += m_score\n",
    "\n",
    "# calculate the means\n",
    "for class_idx in range(n_class):\n",
    "    score_means[class_idx] /= n_student\n",
    "    \n",
    "print(\"Means of the score data: \", score_means)"
   ]
  },
  {
   "cell_type": "markdown",
   "metadata": {
    "pycharm": {
     "name": "#%% md\n"
    }
   },
   "source": [
    "# Exercise Group.5: for + enumerate\n"
   ]
  },
  {
   "cell_type": "markdown",
   "metadata": {
    "pycharm": {
     "name": "#%% md\n"
    }
   },
   "source": [
    "## Exercise.2 - 16: for + enumerate\n",
    "enumerate의 기본적인 사용법과 장점에 대해 알아봅니다. <br>"
   ]
  },
  {
   "cell_type": "code",
   "execution_count": null,
   "metadata": {
    "pycharm": {
     "name": "#%%\n"
    }
   },
   "outputs": [],
   "source": [
    "scores = [30, 50, 90, 70, 30, 95, 40]\n",
    "\n",
    "print('===== method.1 =====')  \n",
    "score_idx = 0\n",
    "for score in scores:\n",
    "    print(score_idx, score)\n",
    "    score_idx += 1\n",
    "\n",
    "print('===== method.2 =====')  \n",
    "for score_idx in range(len(scores)):\n",
    "    print(score_idx, scores[score_idx])\n",
    "\n",
    "print('===== method.3 =====')  \n",
    "for score_idx, score in enumerate(scores):\n",
    "    print(score_idx, score)"
   ]
  },
  {
   "cell_type": "markdown",
   "metadata": {
    "pycharm": {
     "name": "#%% md\n"
    }
   },
   "source": [
    "## Exercise.2 - 17: 원하는 수만큼 for loop 돌리기\n",
    "프로그램 개발단계와 debugging 단계에서 적극적으로 사용할 수 있는 enumerate의 사용법에 대해 배워봅니다.<br>"
   ]
  },
  {
   "cell_type": "code",
   "execution_count": null,
   "metadata": {
    "pycharm": {
     "name": "#%%\n"
    }
   },
   "outputs": [],
   "source": [
    "scores = [30, 50, 90, 70, 30, 95, 40]\n",
    "\n",
    "print('===== method.1 =====') \n",
    "for score_idx in range(len(scores)):\n",
    "    if score_idx < 5:\n",
    "        print(score_idx, scores[score_idx])\n",
    "\n",
    "print('===== method.2 =====') \n",
    "for score_idx, score in enumerate(scores):\n",
    "    if score_idx < 5:\n",
    "        print(score_idx, score)"
   ]
  },
  {
   "cell_type": "markdown",
   "metadata": {
    "pycharm": {
     "name": "#%% md\n"
    }
   },
   "source": [
    "## Exercise.2 - 18: 수학 장학생 선정하기\n",
    "data의 index와 data가 함께 사용될 때 enumerate을 적용하는 방법에 대해 생각해봅니다."
   ]
  },
  {
   "cell_type": "code",
   "execution_count": null,
   "metadata": {
    "pycharm": {
     "name": "#%%\n"
    }
   },
   "outputs": [],
   "source": [
    "m_scores = [92, 60, 80, 94, 50, 60, 95]\n",
    "e_scores = [70, 40, 50, 80, 70, 40, 80]\n",
    "k_scores = [30, 20, 60, 80, 30, 60, 65]\n",
    "\n",
    "# get data and index simultaneously\n",
    "for student_idx, m_score in enumerate(m_scores):\n",
    "    # compare the score to the cutoff\n",
    "    if m_score > 90:\n",
    "        print(\"Candidate of scholarship: \", student_idx, '/', m_score)\n",
    "        \n",
    "        # get other data using the index\n",
    "        e_score = e_scores[student_idx]\n",
    "        k_score = k_scores[student_idx]\n",
    "        if e_score > 70 and k_score > 70:\n",
    "            print(\"Pass!\")\n",
    "        else:\n",
    "            print(\"Try Again!\")"
   ]
  },
  {
   "cell_type": "markdown",
   "metadata": {
    "pycharm": {
     "name": "#%% md\n"
    }
   },
   "source": [
    "## Exercise.2 - 19: 최댓값, 최솟값, 그리고 그 위치\n",
    "Lv.1에서 index를 사용하는 대표적인 예제였던 M, M_idx, m, m_idx를 <br>\n",
    "enumerate을 이용하여 구하는 방법을 배워봅니다."
   ]
  },
  {
   "cell_type": "code",
   "execution_count": null,
   "metadata": {
    "pycharm": {
     "name": "#%%\n"
    }
   },
   "outputs": [],
   "source": [
    "scores = [50, 30, 90, 70, 30, 95, 40]\n",
    "\n",
    "# initialize the M, M_idx, m, m_idx values\n",
    "# without assuming the data range\n",
    "M, m = scores[0], scores[0]\n",
    "M_idx, m_idx = 0, 0\n",
    "\n",
    "for score_idx, score in enumerate(scores):\n",
    "    # update the M, M_idx at the same time\n",
    "    if score > M:\n",
    "        M = score\n",
    "        M_idx = score_idx\n",
    "    \n",
    "    if score < m:\n",
    "        m = score\n",
    "        m_idx = score_idx\n",
    "    \n",
    "print(\"Max/Max index: \", M, '/', M_idx)\n",
    "print(\"min/min index: \", m, '/', m_idx)"
   ]
  },
  {
   "cell_type": "markdown",
   "metadata": {
    "pycharm": {
     "name": "#%% md\n"
    }
   },
   "source": [
    "# Exercise Group.6: One-hot Encoding / zip + enumerate"
   ]
  },
  {
   "cell_type": "markdown",
   "metadata": {
    "pycharm": {
     "name": "#%% md\n"
    }
   },
   "source": [
    "## Exercise.2 - 20: One-hot Encoding\n",
    "string으로 주어진 data를 ont-hot encoding하는 방법을 배웁니다. <br>\n",
    "초기 data type의 상관없이 vector로 바꿔주는 one-hot encoding의 특징에 대해 알아봅니다."
   ]
  },
  {
   "cell_type": "code",
   "execution_count": null,
   "metadata": {
    "pycharm": {
     "name": "#%%\n"
    }
   },
   "outputs": [],
   "source": [
    "# labels are given by string data type\n",
    "labels = ['dog', 'cat', 'dolphin', 'tiger']\n",
    "print(\"Before one-hot encoding\")\n",
    "print(labels)\n",
    "\n",
    "# calculate the required n_ data\n",
    "n_label = len(labels)\n",
    "n_class = 4\n",
    "\n",
    "# initialize the ont-hot matrix as a zero matrix\n",
    "one_hot_mat = list()\n",
    "for _ in range(n_label):\n",
    "    one_hot_vec = list()\n",
    "    for _ in range(n_class):\n",
    "        one_hot_vec.append(0)\n",
    "    one_hot_mat.append(one_hot_vec)\n",
    "    \n",
    "for label_idx, label in enumerate(labels):\n",
    "    # get the one-hot vector\n",
    "    one_hot_vec = one_hot_mat[label_idx]\n",
    "    \n",
    "    # make \"hot\" values\n",
    "    if label == 'dolphin':\n",
    "        one_hot_vec[0] = 1\n",
    "    elif label == 'cat':\n",
    "        one_hot_vec[1] = 1\n",
    "    elif label == 'dog':\n",
    "        one_hot_vec[2] = 1\n",
    "    elif label == 'tiger':\n",
    "        one_hot_vec[3] = 1\n",
    "    else:\n",
    "        print(\"[ERROR]UNKNOWN LABEL\")\n",
    "\n",
    "# print the one-hot matrix\n",
    "print(\"After one-hot encoding\")\n",
    "for one_hot_vec in one_hot_mat:\n",
    "    print(one_hot_vec)"
   ]
  },
  {
   "cell_type": "markdown",
   "metadata": {
    "pycharm": {
     "name": "#%% md\n"
    }
   },
   "source": [
    "## Exercise.2 - 21: zip + enumerate\n",
    "zip과 enumerate을 함께 사용하는 방법에 대해 배워봅니다."
   ]
  },
  {
   "cell_type": "code",
   "execution_count": null,
   "metadata": {
    "pycharm": {
     "name": "#%%\n"
    }
   },
   "outputs": [],
   "source": [
    "e_scores = [40, 20, 50, 80]\n",
    "m_scores = [20, 60, 30, 40]\n",
    "\n",
    "for score_idx, (e_s, m_s) in enumerate(zip(e_scores, m_scores)):\n",
    "    print(score_idx, e_s, m_s)"
   ]
  },
  {
   "cell_type": "markdown",
   "metadata": {
    "pycharm": {
     "name": "#%% md\n"
    }
   },
   "source": [
    "## Exercise.2 - 22: 두 과목의 최댓값, 최댓값의 index\n",
    "zip과 enumerate을 함께 사용하여 2개의 vector에 대한 연산을 연습해봅니다."
   ]
  },
  {
   "cell_type": "code",
   "execution_count": null,
   "metadata": {
    "pycharm": {
     "name": "#%%\n"
    }
   },
   "outputs": [],
   "source": [
    "e_scores = [40, 20, 50, 80]\n",
    "m_scores = [20, 60, 30, 40]\n",
    "\n",
    "# initialize the maxima, maximum indices\n",
    "Maxes = [None, None]\n",
    "M_indices = [0, 0]\n",
    "\n",
    "for s_idx, (e_s, m_s) in enumerate(zip(e_scores, m_scores)):\n",
    "    if Maxes[0] == None or e_s > Maxes[0]:\n",
    "        Maxes[0], M_indices[0] = e_s, s_idx\n",
    "    if Maxes[1] == None or m_s > Maxes[1]:\n",
    "        Maxes[1], M_indices[1] = m_s, s_idx\n",
    "        \n",
    "print(\"Maxima: \", Maxes)\n",
    "print(\"Maximum Indices: \", M_indices)"
   ]
  },
  {
   "cell_type": "markdown",
   "metadata": {
    "pycharm": {
     "name": "#%% md\n"
    }
   },
   "source": [
    "# Exercise Goupr.7: (Mini-project) Top-5 Accuracy"
   ]
  },
  {
   "cell_type": "markdown",
   "metadata": {
    "pycharm": {
     "name": "#%% md\n"
    }
   },
   "source": [
    "## Exercise.2 - 23: Membership Test\n",
    "특정 값이 list에 존재하는지 확인하는 membership test \"in\"에 대해 알아봅니다."
   ]
  },
  {
   "cell_type": "code",
   "execution_count": null,
   "metadata": {
    "pycharm": {
     "name": "#%%\n"
    }
   },
   "outputs": [],
   "source": [
    "element = 1\n",
    "test_list = [5, 3, 1, 3, 6, 7]\n",
    "\n",
    "print('===== method.1 =====') \n",
    "if element in test_list:\n",
    "    print(\"Member of test list!\")\n",
    "else:\n",
    "    print(\"Not member of test list!\")\n",
    "\n",
    "print('===== method.2 =====') \n",
    "elements = [1, 2, 3]\n",
    "for element in elements:\n",
    "    if element in test_list:\n",
    "        print(\"Member of test list!\")\n",
    "    else:\n",
    "        print(\"No member of test list!\")"
   ]
  },
  {
   "cell_type": "markdown",
   "metadata": {
    "pycharm": {
     "name": "#%% md\n"
    }
   },
   "source": [
    "## Exercise.2 - 24: Sorting with Indices\n",
    "Lv.1에서는 data를 sorting했습니다. <br>\n",
    "Index도 함께 sorting해야 될 때는 어떤 문제점이 발생하고, 어떻게 해결할지 생각해봅니다."
   ]
  },
  {
   "cell_type": "code",
   "execution_count": null,
   "metadata": {
    "pycharm": {
     "name": "#%%\n"
    }
   },
   "outputs": [],
   "source": [
    "predictions = [40, 25, 10, 80, 60, 20]\n",
    "print(\"Predictions: \", predictions, '\\n')\n",
    "sorted_predictions = list()\n",
    "sorted_prediction_indices = list()\n",
    "\n",
    "print(\"===== SORTING =====\")\n",
    "for _ in range(len(predictions)):\n",
    "    M, M_idx = None, 0\n",
    "    \n",
    "    # get M, M_idx of prediction vector\n",
    "    for pred_idx, pred in enumerate(predictions):\n",
    "        # check whether the idx is already sorted\n",
    "        if pred_idx in sorted_prediction_indices:\n",
    "            pass\n",
    "        \n",
    "        # if the idx is not sorted\n",
    "        elif M == None or pred > M:\n",
    "            M = pred\n",
    "            M_idx = pred_idx\n",
    "    \n",
    "    sorted_predictions.append(M)\n",
    "    sorted_prediction_indices.append(M_idx)\n",
    "    print(sorted_predictions, sorted_prediction_indices)\n",
    "\n",
    "print(\"\\nSorted predictions: \", sorted_predictions)\n",
    "print(\"Sorted indices: \", sorted_prediction_indices)"
   ]
  },
  {
   "cell_type": "markdown",
   "metadata": {
    "pycharm": {
     "name": "#%% md\n"
    }
   },
   "source": [
    "## Exercise.2 - 25: Top-5 Accuracy\n",
    "Classification task에서 정확한 label을 예측하지 못했더라도, <br>\n",
    "유의미한 예측일 때 측정하는 top-5 accuracy를 구해봅니다.<br>\n",
    "\n",
    "<br>\n",
    "<font color='darkred', size=\"5\">\n",
    "    <center>\n",
    "        <b> 미리 구현해보기 15분 </b>\n",
    "    </center>\n",
    "</font>"
   ]
  },
  {
   "cell_type": "code",
   "execution_count": null,
   "metadata": {
    "pycharm": {
     "name": "#%%\n"
    }
   },
   "outputs": [],
   "source": [
    "# make random prediction\n",
    "prediction = [40, 25, 10, 80, 60, 20, 5, 30, 10, 15]\n",
    "label = 0\n",
    "\n",
    "# calculate the required n_ data\n",
    "n_class = len(prediction)\n",
    "\n",
    "# transform the predictions into probabilities\n",
    "pred_sum = 0\n",
    "for pred in prediction:\n",
    "    pred_sum += pred\n",
    "for pred_idx, pred in enumerate(prediction):\n",
    "    prediction[pred_idx] = pred/pred_sum\n",
    "    \n",
    "sorted_predictions = list()\n",
    "sorted_prediction_indices = list()\n",
    "# iterate 5 times for getting 5 maximum indices\n",
    "for _ in range(5):\n",
    "    M, M_idx = None, 0\n",
    "    \n",
    "    for pred_idx, pred in enumerate(prediction):\n",
    "        if pred_idx in sorted_prediction_indices:\n",
    "            pass\n",
    "        elif M == None or pred > M:\n",
    "            M = pred\n",
    "            M_idx = pred_idx\n",
    "    \n",
    "    sorted_predictions.append(M)\n",
    "    sorted_prediction_indices.append(M_idx)\n",
    "    \n",
    "print(\"Top-5 precition and label\", sorted_prediction_indices, label)\n",
    "if label in sorted_prediction_indices:\n",
    "    print(\"-> Correct\")\n",
    "else:\n",
    "    print(\"-> Not correct\")"
   ]
  },
  {
   "cell_type": "markdown",
   "metadata": {
    "pycharm": {
     "name": "#%% md\n"
    }
   },
   "source": [
    "# Exercise Group.8: String Formatting"
   ]
  },
  {
   "cell_type": "markdown",
   "metadata": {
    "pycharm": {
     "name": "#%% md\n"
    }
   },
   "source": [
    "## Exercise.2 - 26: string.format의 기본적인 사용법\n",
    "String formatting은 log를 남길 때 많이 사용됩니다. 단계별 연습으로 체화시켜보세요."
   ]
  },
  {
   "cell_type": "code",
   "execution_count": null,
   "metadata": {
    "pycharm": {
     "name": "#%%\n"
    }
   },
   "outputs": [],
   "source": [
    "score1, score2 = 10, 20\n",
    "\n",
    "print('score1: {}, score2: {}'.format(score1, score2))\n",
    "\n",
    "template = 'score1: {}, score2: {}'\n",
    "print(template.format(score1, score2))\n",
    "\n",
    "template = 'score1: {}, score2: {}'.format(score1, score2)\n",
    "print(template)"
   ]
  },
  {
   "cell_type": "markdown",
   "metadata": {
    "pycharm": {
     "name": "#%% md\n"
    }
   },
   "source": [
    "## Exercise.2 - 27: format의 위치 정하기\n",
    "개인적으로 많이 사용되진 않지만, 다음 배울 :를 이해하기 위해 formatting location을 정하는 방법을 배워봅니다."
   ]
  },
  {
   "cell_type": "code",
   "execution_count": null,
   "metadata": {
    "pycharm": {
     "name": "#%%\n"
    }
   },
   "outputs": [],
   "source": [
    "score1, score2 = 10, 20\n",
    "\n",
    "print('score1: {0}, score2: {1}'.format(score1, score2))\n",
    "\n",
    "print('score1: {1}, score2: {0}'.format(score2, score1))"
   ]
  },
  {
   "cell_type": "markdown",
   "metadata": {
    "pycharm": {
     "name": "#%% md\n"
    }
   },
   "source": [
    "## Exercise.2 - 28: 출력되는 소숫점 개수 정하기\n",
    "String formatting을 사용하는 이유중 하나인, 출력되는 소숫점 개수를 설정하는 방법을 배워봅니다."
   ]
  },
  {
   "cell_type": "code",
   "execution_count": null,
   "metadata": {
    "pycharm": {
     "name": "#%%\n"
    }
   },
   "outputs": [],
   "source": [
    "mean1 = 43.235234\n",
    "mean2 = 24.542332\n",
    "\n",
    "print('mean1: {:.2f}, mean2: {:.2f}'.format(mean1, mean2), '\\n')\n",
    "\n",
    "print('mean1: {:.2f}\\nmean2: {:.2f}'.format(mean1, mean2), '\\n')\n",
    "\n",
    "print('mean1: {0:.2f}\\nmean2: {1:.2f}'.format(mean1, mean2), '\\n')\n",
    "\n",
    "print('mean1: {1:.2f}\\nmean2: {0:.2f}'.format(mean2, mean1))"
   ]
  },
  {
   "cell_type": "markdown",
   "metadata": {
    "pycharm": {
     "name": "#%% md\n"
    }
   },
   "source": [
    "## Exercise.2 - 29: String Concatenation\n",
    "String의 덧셈 연산에 대해 배워봅니다. <br>\n",
    "String의 덧셈 연산에서 고려해야될 점을 배워봅니다."
   ]
  },
  {
   "cell_type": "code",
   "execution_count": null,
   "metadata": {
    "pycharm": {
     "name": "#%%\n"
    }
   },
   "outputs": [],
   "source": [
    "test_string = 'Hello ' + 'World!'\n",
    "print(test_string)\n",
    "\n",
    "test_string = \"I've got \" + str(100) + ' point!'\n",
    "print(test_string)"
   ]
  },
  {
   "cell_type": "markdown",
   "metadata": {
    "pycharm": {
     "name": "#%% md\n"
    }
   },
   "source": [
    "## Exercise.2 - 30: 여러 줄에 걸친 string template\n",
    "String concatenation을 이용하여 print template을 만드는 방법에 대해 배워봅니다."
   ]
  },
  {
   "cell_type": "code",
   "execution_count": null,
   "metadata": {
    "pycharm": {
     "name": "#%%\n"
    }
   },
   "outputs": [],
   "source": [
    "mean1 = 53.234325\n",
    "mean2 = 24.353243\n",
    "mean3 = 93.35234\n",
    "\n",
    "template = 'mean1: {}\\n' + \\\n",
    "    'mean2: {}\\n' + \\\n",
    "    'mean3: {}\\n'\n",
    "print(template.format(mean1, mean2, mean3))"
   ]
  },
  {
   "cell_type": "markdown",
   "metadata": {
    "pycharm": {
     "name": "#%% md\n"
    }
   },
   "source": [
    "## Exercise.2 - 31: f String\n",
    "아직 보편적으로 사용되는 방법은 아니나, 많은 사람들이 점점 더 사용하고 있는 f-string에 대해 배워봅니다."
   ]
  },
  {
   "cell_type": "code",
   "execution_count": null,
   "metadata": {
    "pycharm": {
     "name": "#%%\n"
    }
   },
   "outputs": [],
   "source": [
    "score1, score2 = 10, 20\n",
    "print(f'score1: {score1}, score2:{score2}')\n",
    "\n",
    "mean1 = 43.235234\n",
    "mean2 = 24.542332\n",
    "print(f'mean1: {mean1:.2f}, mean2: {mean2:.2f}')"
   ]
  },
  {
   "cell_type": "markdown",
   "metadata": {
    "pycharm": {
     "name": "#%% md\n"
    }
   },
   "source": [
    "## Exercise.2 - 32: 평균, 분산, 표준편차 출력하기\n",
    "Lv.1에서 반복적으로 다룬 평균, 분산, 표준편차를 구하는 과정에 대해 복습합니다. <br>\n",
    "String formatting을 통해 더 간편하고, 보기좋은 print를 연습합니다."
   ]
  },
  {
   "cell_type": "code",
   "execution_count": null,
   "metadata": {
    "pycharm": {
     "name": "#%%\n"
    }
   },
   "outputs": [],
   "source": [
    "scores = [50, 30, 90, 70, 30, 95, 40]\n",
    "n_student = len(scores)\n",
    "\n",
    "score_sum, score_square_sum = 0, 0\n",
    "for score in scores:\n",
    "    score_sum += score\n",
    "    score_square_sum += score**2\n",
    "\n",
    "score_mean = score_sum / n_student\n",
    "\n",
    "som = score_mean**2\n",
    "mos = score_square_sum/n_student\n",
    "\n",
    "score_variance = mos - som\n",
    "score_std = score_variance**0.5\n",
    "\n",
    "template = f'Score mean: {score_mean:.2f}\\n' + \\\n",
    "    f'Score Variance: {score_variance:.2f}\\n' + \\\n",
    "    f'Score Standard Deviation: {score_std:.2f}\\n'\n",
    "print(template)\n",
    "\n",
    "template = 'Score mean: {:.2f}\\n' + \\\n",
    "    'Score Variance: {:.2f}\\n' + \\\n",
    "    'Score Standard Deviation: {:.2f}\\n'\n",
    "print(template.format(score_mean, score_variance, score_std))"
   ]
  },
  {
   "cell_type": "markdown",
   "metadata": {
    "pycharm": {
     "name": "#%% md\n"
    }
   },
   "source": [
    "# Exercise Group.9: Dictionary"
   ]
  },
  {
   "cell_type": "markdown",
   "metadata": {
    "pycharm": {
     "name": "#%% md\n"
    }
   },
   "source": [
    "## Exercise.2 - 33: Dictionary의 필요성(글자수 세기)\n",
    "List를 이용해 문자열에서 문자의 빈도를 구하는 과정에 대해 복습합니다. <br>\n",
    "빈도를 구한 list의 불편함에 대해 생각해봅니다."
   ]
  },
  {
   "cell_type": "code",
   "execution_count": null,
   "metadata": {
    "pycharm": {
     "name": "#%%\n"
    }
   },
   "outputs": [],
   "source": [
    "test_string = 'aabbccdbabda'\n",
    "\n",
    "char_cnts = [0, 0, 0, 0]\n",
    "for char in test_string:\n",
    "    if char == 'a':\n",
    "        char_cnts[0] += 1\n",
    "    elif char == 'b':\n",
    "        char_cnts[1] += 1\n",
    "    elif char == 'c':\n",
    "        char_cnts[2] += 1\n",
    "    elif char == 'd':\n",
    "        char_cnts[3] += 1\n",
    "    else:\n",
    "        pass\n",
    "    \n",
    "print(char_cnts)\n",
    "\n",
    "test_string = '!@$@#$@#!$@#$'\n",
    "\n",
    "char_cnts = [0, 0, 0, 0]\n",
    "for char in test_string:\n",
    "    if char == '!':\n",
    "        char_cnts[0] += 1\n",
    "    elif char == '@':\n",
    "        char_cnts[1] += 1\n",
    "    elif char == '#':\n",
    "        char_cnts[2] += 1\n",
    "    elif char == '$':\n",
    "        char_cnts[3] += 1\n",
    "    else:\n",
    "        pass\n",
    "    \n",
    "print(char_cnts)"
   ]
  },
  {
   "cell_type": "markdown",
   "metadata": {
    "pycharm": {
     "name": "#%% md\n"
    }
   },
   "source": [
    "## Exercise.2 - 34: Dictionary 만들기 & key로 value 접근하기\n",
    "key, value pair structure인 dictionary에 대해 배워봅니다. <br>\n",
    "dict를 만들고, key를 이용하여 value에 접근하는 방법에 대해 연습해봅니다."
   ]
  },
  {
   "cell_type": "code",
   "execution_count": null,
   "metadata": {
    "pycharm": {
     "name": "#%%\n"
    }
   },
   "outputs": [],
   "source": [
    "char_cnt_dict = {'a':3, 'b':4, 'c':3, 'd':10}\n",
    "print(char_cnt_dict)\n",
    "\n",
    "print(\"a frequency: \", char_cnt_dict['a'])\n",
    "print(\"b frequency: \", char_cnt_dict['b'])\n",
    "print(\"c frequency: \", char_cnt_dict['c'])\n",
    "print(\"d frequency: \", char_cnt_dict['d'])"
   ]
  },
  {
   "cell_type": "markdown",
   "metadata": {
    "pycharm": {
     "name": "#%% md\n"
    }
   },
   "source": [
    "## Exercise.2 - 35: Key, Value 추가하기\n",
    "빈 dict를 만들고, key-value pair를 추가하는 방법에 대해 배워봅니다. <br>\n",
    "list와 마찬가지로 값을 할당할 때와 값을 참조할 때 같은 방법인 것을 확인합니다."
   ]
  },
  {
   "cell_type": "code",
   "execution_count": null,
   "metadata": {
    "pycharm": {
     "name": "#%%\n"
    }
   },
   "outputs": [],
   "source": [
    "test_dict = dict()\n",
    "print(test_dict)\n",
    "\n",
    "test_dict['a'] = 10\n",
    "print(test_dict)\n",
    "test_dict['b'] = 20\n",
    "print(test_dict)\n",
    "test_dict['c'] = 30\n",
    "print(test_dict)"
   ]
  },
  {
   "cell_type": "markdown",
   "metadata": {
    "pycharm": {
     "name": "#%% md\n"
    }
   },
   "source": [
    "## Exercise.2 - 36: KeyError와 dict.get\n",
    "참조하려는 key가 없을 때 발생하는 KeyError와 <br>\n",
    "이를 초깃값 설정으로 해결해주는 dict.get에 대해 배워봅니다."
   ]
  },
  {
   "cell_type": "code",
   "execution_count": null,
   "metadata": {
    "pycharm": {
     "name": "#%%\n"
    }
   },
   "outputs": [],
   "source": [
    "test_dict = dict()\n",
    "# print(test_dict['a'])\n",
    "\n",
    "print(test_dict.get('a', 0))\n",
    "print(test_dict.get('b', [0]))\n",
    "print(test_dict.get('c', 'Hello World'))"
   ]
  },
  {
   "cell_type": "markdown",
   "metadata": {
    "pycharm": {
     "name": "#%% md\n"
    }
   },
   "source": [
    "## Exercise.2 - 37: Dict로 글자수 세기\n",
    "dict의 key에는 string도 들어갈 수 있으므로, <br>\n",
    "위와 동일한 방법으로 문자의 등장 횟수도 연산할 수 있습니다. <br>\n",
    "list로 횟수를 셌을 때와 결과를 비교해봅니다."
   ]
  },
  {
   "cell_type": "code",
   "execution_count": null,
   "metadata": {
    "pycharm": {
     "name": "#%%\n"
    }
   },
   "outputs": [],
   "source": [
    "test_string = 'aabbccdbabdagfgk'\n",
    "# test_string = '%&^%*%%#$@#$%$^%@#'\n",
    "\n",
    "cnt_dict = dict()\n",
    "for char in test_string:\n",
    "    cnt_dict[char] = cnt_dict.get(char, 0) + 1\n",
    "\n",
    "print(cnt_dict)"
   ]
  },
  {
   "cell_type": "markdown",
   "metadata": {
    "pycharm": {
     "name": "#%% md\n"
    }
   },
   "source": [
    "## Exercise.2 - 38: One-hot Encoding(2)\n",
    "Exercise.2 - 20에서 만든 one-hot encoding 방식은 n개의 class에 대하여 대응하지 못한다는 단점이 있습니다.\n",
    "이를 해결하기 위해 dict를 사용하여 one-hot encoding을 진행해봅니다."
   ]
  },
  {
   "cell_type": "code",
   "execution_count": null,
   "metadata": {
    "pycharm": {
     "name": "#%%\n"
    }
   },
   "outputs": [],
   "source": [
    "labels = ['dog', 'cat', 'dolphin', 'tiger', 'dog', 'cat', 'cow']\n",
    "\n",
    "# class name => class idx mapping\n",
    "one_hot_enc_dict = {'dog':0, 'cat':1, 'tiger':2, 'dolphin':3, 'rabbit':4, 'cow':5}\n",
    "\n",
    "n_label = len(labels)\n",
    "n_class = len(one_hot_enc_dict)\n",
    "\n",
    "one_hot_mat = list()\n",
    "for _ in range(n_label):\n",
    "    one_hot_vec = [0]*n_class\n",
    "    one_hot_mat.append(one_hot_vec)\n",
    "\n",
    "for label_idx, label in enumerate(labels):\n",
    "    one_hot_vec = one_hot_mat[label_idx]\n",
    "    \n",
    "    # transform the name to the idx\n",
    "    class_idx = one_hot_enc_dict[label]\n",
    "    one_hot_vec[class_idx] = 1\n",
    "\n",
    "for one_hot_vec in one_hot_mat:\n",
    "    print(one_hot_vec)"
   ]
  },
  {
   "cell_type": "markdown",
   "metadata": {
    "pycharm": {
     "name": "#%% md\n"
    }
   },
   "source": [
    "# Exercise Group.10: Dictionary 루핑과 Meta Data 만들기"
   ]
  },
  {
   "cell_type": "markdown",
   "metadata": {
    "pycharm": {
     "name": "#%% md\n"
    }
   },
   "source": [
    "## Exercise.2 - 39: Dictionary Looping\n",
    "dict는 key를 기준으로 looping이 이루어집니다."
   ]
  },
  {
   "cell_type": "code",
   "execution_count": null,
   "metadata": {
    "pycharm": {
     "name": "#%%\n"
    }
   },
   "outputs": [],
   "source": [
    "cnt_dict = {'a': 3, 'b': 4, 'c': 2, 'd': 1}\n",
    "\n",
    "for k in cnt_dict:\n",
    "    print(k, cnt_dict[k])"
   ]
  },
  {
   "cell_type": "markdown",
   "metadata": {
    "pycharm": {
     "name": "#%% md\n"
    }
   },
   "source": [
    "## Exercise.2 - 40: dict.keys, dict.values, dict.items\n",
    "dict가 가지고 있는 \"기능\"인 keys, values, items에 대해 배워봅니다. <br>"
   ]
  },
  {
   "cell_type": "code",
   "execution_count": null,
   "metadata": {
    "pycharm": {
     "name": "#%%\n"
    }
   },
   "outputs": [],
   "source": [
    "cnt_dict = {'a': 3, 'b': 4, 'c': 2, 'd': 1}\n",
    "\n",
    "for k in cnt_dict.keys():\n",
    "    print(k)\n",
    "\n",
    "print('======')  \n",
    "for v in cnt_dict.values():\n",
    "    print(v)\n",
    "\n",
    "print('======')  \n",
    "for k, v in cnt_dict.items():\n",
    "    print(k, v)"
   ]
  },
  {
   "cell_type": "markdown",
   "metadata": {
    "pycharm": {
     "name": "#%% md\n"
    }
   },
   "source": [
    "## Exercise.2 - 41: 가장 많이 등장한 글자 찾기\n",
    "문자의 횟수와 최댓값을 이용하여 가장 많이 등장한 글자를 찾아봅니다."
   ]
  },
  {
   "cell_type": "code",
   "execution_count": null,
   "metadata": {
    "pycharm": {
     "name": "#%%\n"
    }
   },
   "outputs": [],
   "source": [
    "import this\n",
    "\n",
    "zen_of_python = \\\n",
    "'''\n",
    "The Zen of Python, by Tim Peters\n",
    "\n",
    "Beautiful is better than ugly.\n",
    "Explicit is better than implicit.\n",
    "Simple is better than complex.\n",
    "Complex is better than complicated.\n",
    "Flat is better than nested.\n",
    "Sparse is better than dense.\n",
    "Readability counts.\n",
    "Special cases aren't special enough to break the rules.\n",
    "Although practicality beats purity.\n",
    "Errors should never pass silently.\n",
    "Unless explicitly silenced.\n",
    "In the face of ambiguity, refuse the temptation to guess.\n",
    "There should be one-- and preferably only one --obvious way to do it.\n",
    "Although that way may not be obvious at first unless you're Dutch.\n",
    "Now is better than never.\n",
    "Although never is often better than *right* now.\n",
    "If the implementation is hard to explain, it's a bad idea.\n",
    "If the implementation is easy to explain, it may be a good idea.\n",
    "Namespaces are one honking great idea -- let's do more of those!\n",
    "'''\n",
    "# print(zen_of_python)\n",
    "\n",
    "# count the frequencies\n",
    "cnt_dict = dict()\n",
    "for char in zen_of_python:\n",
    "    cnt_dict[char] = cnt_dict.get(char, 0) + 1\n",
    "\n",
    "# calculate the most frequent character\n",
    "M_char, M_freq = None, 0\n",
    "for char, char_freq in cnt_dict.items():\n",
    "    if char_freq > M_freq and char != ' ':\n",
    "        M_freq = char_freq\n",
    "        M_char = char\n",
    "print(M_char, M_freq)"
   ]
  },
  {
   "cell_type": "markdown",
   "metadata": {
    "pycharm": {
     "name": "#%% md\n"
    }
   },
   "source": [
    "## Exercise.2 - 42: Score Meta Data Dictionary\n",
    "dict가 가장 많이 사용되는 경우 중 하나는 meta data를 만들 때입니다. <br>\n",
    "수학 점수들에 대해 평균, 분산, 표준편차를 가지고 있는 meta data를 dict로 만들어봅니다."
   ]
  },
  {
   "cell_type": "code",
   "execution_count": null,
   "metadata": {
    "pycharm": {
     "name": "#%%\n"
    }
   },
   "outputs": [],
   "source": [
    "scores = [50, 30, 90, 70, 30, 95, 40]\n",
    "\n",
    "# get the required n_ data\n",
    "n_student = len(scores)\n",
    "\n",
    "# initialize the meta data as dict\n",
    "score_meta_data = dict()\n",
    "\n",
    "# calculate the mean, mos, som\n",
    "score_sum, score_square_sum = 0, 0\n",
    "for score in scores:\n",
    "    score_sum += score\n",
    "    score_square_sum += score**2\n",
    "score_meta_data['mean'] = score_sum/n_student\n",
    "som = score_meta_data['mean']**2\n",
    "mos = score_square_sum/n_student\n",
    "\n",
    "# calculate the variance, std\n",
    "variance = mos - som\n",
    "std = variance**0.5\n",
    "\n",
    "# save the meta data\n",
    "score_meta_data['variance'] = variance\n",
    "score_meta_data['std'] = std\n",
    "\n",
    "template = 'Mean of scores: {:.2f}\\n' + \\\n",
    "    'Variance of scores: {:.2f}\\n' + \\\n",
    "    'Standard deviation of scores: {:.2f}'\n",
    "print(template.format(score_meta_data['mean'],\n",
    "                      score_meta_data['variance'],\n",
    "                      score_meta_data['std']))"
   ]
  },
  {
   "cell_type": "markdown",
   "metadata": {
    "pycharm": {
     "name": "#%% md\n"
    }
   },
   "source": [
    "## Exercise.2 - 43: Score Meta Data Dictionary(2)\n",
    "여러 과목이 있을 때, 각 과목들은 합, 평균, 최고점, 최고점의 idx를 가질 수 있습니다. <br>\n",
    "각 과목이 key, value는 dict로 이루어진 meta data로 이루어진 dict를 만들어봅니다."
   ]
  },
  {
   "cell_type": "code",
   "execution_count": null,
   "metadata": {
    "pycharm": {
     "name": "#%%\n"
    }
   },
   "outputs": [],
   "source": [
    "scores = [[10, 15, 30],\n",
    "          [20, 45, 20],\n",
    "          [30, 35, 40],\n",
    "          [40, 30, 50]]\n",
    "\n",
    "# problem setting\n",
    "class_names = ['Korean', 'English', 'Math']\n",
    "interested_data = ['sum', 'mean', 'M', 'M_idx']\n",
    "\n",
    "# calculate the required n_ data\n",
    "n_student = len(scores)\n",
    "n_class = len(scores[0])\n",
    "\n",
    "# initialize the meta data\n",
    "# all sum, mean, M, M_idx are initialized as 0\n",
    "# subject: {sum: 0, mean: 0, M: 0, M_idx: 0}\n",
    "meta_data = dict()\n",
    "for class_name in class_names:\n",
    "    meta_data[class_name] = dict()\n",
    "    for i_data in interested_data:\n",
    "        meta_data[class_name][i_data] = 0\n",
    "\n",
    "# calculate the accumulated scores\n",
    "# and maximum scores, maximum score indices\n",
    "for s_idx, s_scores in enumerate(scores):\n",
    "    for c_idx, c_score in enumerate(s_scores):\n",
    "        meta = meta_data[class_names[c_idx]]\n",
    "        meta['sum'] += c_score\n",
    "        \n",
    "        if c_score > meta['M']:\n",
    "            meta['M'] = c_score\n",
    "            meta['M_idx'] = s_idx\n",
    "\n",
    "# calculate the means\n",
    "for class_idx in range(n_class):\n",
    "    meta = meta_data[class_names[class_idx]]\n",
    "    meta['mean'] = meta['sum']/n_student\n",
    "\n",
    "for k, v in meta_data.items():\n",
    "    print('Subject: {} => '.format(k), v)"
   ]
  },
  {
   "cell_type": "markdown",
   "metadata": {
    "pycharm": {
     "name": "#%% md\n"
    }
   },
   "source": [
    "# Exercise Group.11: (Mini-project) Mean Subtraction & Normalization"
   ]
  },
  {
   "cell_type": "markdown",
   "metadata": {
    "pycharm": {
     "name": "#%% md\n"
    }
   },
   "source": [
    "## Exercise. 2 - 44: Mean Subtraciton & Normalization\n",
    "<br>\n",
    "<font color='darkred', size=\"5\">\n",
    "    <center>\n",
    "        <b> 미리 구현해보기 30분 </b>\n",
    "    </center>\n",
    "</font>"
   ]
  },
  {
   "cell_type": "code",
   "execution_count": null,
   "metadata": {
    "pycharm": {
     "name": "#%%\n"
    }
   },
   "outputs": [],
   "source": [
    "# problem setting\n",
    "class_names = ['Korean', 'English', 'Math']\n",
    "scores = [[10, 65, 90],\n",
    "          [20, 45, 20],\n",
    "          [30, 35, 40],\n",
    "          [40, 30, 50]]\n",
    "\n",
    "# define what we need for mean subtraction & normalization\n",
    "interested_data = ['sum', 'mean', 'M_idx', 'm_idx']\n",
    "\n",
    "# calculate the required n_ data\n",
    "n_student = len(scores)\n",
    "n_class = len(scores[0])\n",
    "\n",
    "# initialize the meta data\n",
    "# all sum, mean, M, M_idx are initialized as 0\n",
    "# all minuma are initialized as 0\n",
    "# (assumption) maximum score is 100\n",
    "# subject: {sum: 0, mean: 0, M: 0, M_idx: 0, m: 100, m_idx: 0}\n",
    "meta_data = dict()\n",
    "for class_name in class_names:\n",
    "    meta_data[class_name] = dict()\n",
    "    for i_data in interested_data:\n",
    "        meta_data[class_name][i_data] = 0\n",
    "    meta_data[class_name]['m'] = None\n",
    "    meta_data[class_name]['M'] = None\n",
    "\n",
    "# calculate sum, M, M_idx, m, m_idx\n",
    "for s_idx, s_scores in enumerate(scores):\n",
    "    for c_idx, c_score in enumerate(s_scores):\n",
    "        # get the class' meta data\n",
    "        meta = meta_data[class_names[c_idx]]\n",
    "        \n",
    "        # calculate the sum, M, M_idx, m, m_idx\n",
    "        meta['sum'] += c_score\n",
    "        \n",
    "        if meta['M'] == None or c_score > meta['M']:\n",
    "            meta['M'] = c_score\n",
    "            meta['M_idx'] = s_idx\n",
    "        if meta['m'] == None or c_score < meta['m']:\n",
    "            meta['m'] = c_score\n",
    "            meta['m_idx'] = s_idx\n",
    "\n",
    "# calculate and save the means\n",
    "for class_idx in range(n_class):\n",
    "    meta = meta_data[class_names[class_idx]]\n",
    "    meta['mean'] = meta['sum']/n_student\n",
    "\n",
    "# check meta data\n",
    "print(\"Meta data dictionary: \")\n",
    "for k, v in meta_data.items():\n",
    "    print(k, \": \", v)\n",
    "    \n",
    "# initialize lists for mean subtracted, standardized scores\n",
    "scores_ms = list()\n",
    "scores_norm = list()\n",
    "\n",
    "# mean subtraction, standardization\n",
    "for s_idx, s_scores in enumerate(scores):\n",
    "    # temporary lists for saving the row data\n",
    "    tmp_ms = list()\n",
    "    tmp_norm = list()\n",
    "    \n",
    "    for c_idx, c_score in enumerate(s_scores):\n",
    "        meta = meta_data[class_names[c_idx]]\n",
    "        \n",
    "        # [Note] how this code reference the mean, M, m\n",
    "        tmp_ms.append(c_score - meta['mean'])\n",
    "        tmp_norm.append((c_score - meta['m'])/(meta['M'] - meta['m']))\n",
    "    \n",
    "    scores_ms.append(tmp_ms)\n",
    "    scores_norm.append(tmp_norm)\n",
    "\n",
    "print(\"\\nMean Subtraction\\t\\tStandardization\")\n",
    "for score_ms, scores_norm in zip(scores_ms, scores_norm):\n",
    "    print(score_ms, '\\t', scores_norm)"
   ]
  },
  {
   "cell_type": "markdown",
   "metadata": {
    "pycharm": {
     "name": "#%% md\n"
    }
   },
   "source": [
    "# Exercise Group.12: List Comprehension"
   ]
  },
  {
   "cell_type": "markdown",
   "metadata": {
    "pycharm": {
     "name": "#%% md\n"
    }
   },
   "source": [
    "## Exercise.2 - 45: Comprehension의 필요성\n",
    "Python에서 자주 사용되는 list comprehension의 필요성과 장점을 알아봅니다."
   ]
  },
  {
   "cell_type": "code",
   "execution_count": null,
   "metadata": {
    "pycharm": {
     "name": "#%%\n"
    }
   },
   "outputs": [],
   "source": [
    "numbers = list()\n",
    "for num in range(20):\n",
    "    numbers.append(num)\n",
    "print(numbers)\n",
    "\n",
    "numbers = [num for num in range(20)]\n",
    "print(numbers)"
   ]
  },
  {
   "cell_type": "markdown",
   "metadata": {
    "pycharm": {
     "name": "#%% md\n"
    }
   },
   "source": [
    "## Exercise.2 - 46: Comprehension + 연산\n",
    "List comprehension은 특히 연습이 필수입니다. <br>\n",
    "3가지 연습을 통해서 list comprehension과 더 친해져봅니다. <br>\n",
    "**(참고)**\n",
    "List comprehension은 Lv.3에서 배우게 될 함수와 함께 자주 사용됩니다."
   ]
  },
  {
   "cell_type": "code",
   "execution_count": null,
   "metadata": {
    "pycharm": {
     "name": "#%%\n"
    }
   },
   "outputs": [],
   "source": [
    "multiple_of_two = [2*num for num in range(20)]\n",
    "print(multiple_of_two)\n",
    "\n",
    "added_by_three = [num + 3 for num in range(20)]\n",
    "print(added_by_three)\n",
    "\n",
    "squares = [num**2 for num in range(20)]\n",
    "print(squares)"
   ]
  },
  {
   "cell_type": "markdown",
   "metadata": {
    "pycharm": {
     "name": "#%% md\n"
    }
   },
   "source": [
    "## Exercise.2 - 47: Comprehension으로 List 접근하기\n",
    "for문에서 range, list 자체가 사용됐던 것처럼 list comprehension에서도 이 두 가지가 모두 사용될 수 있습니다.<br>\n",
    "List의 값을 변화시켜 저장하는 방법에 대해서 배워봅니다."
   ]
  },
  {
   "cell_type": "code",
   "execution_count": null,
   "metadata": {
    "pycharm": {
     "name": "#%%\n"
    }
   },
   "outputs": [],
   "source": [
    "scores = [20, 60, 20, 10, 70]\n",
    "double_scores = [2*score for score in scores]\n",
    "print(\"double of scores: \", double_scores)"
   ]
  },
  {
   "cell_type": "markdown",
   "metadata": {
    "pycharm": {
     "name": "#%% md\n"
    }
   },
   "source": [
    "## Exercise.2 - 48: comprehension에서 Index로 여러개 list 접근하기\n",
    "for loop을 통해 list의 원소에 접근하는 방법은 두 가지가 있었습니다. <br>\n",
    "그 중 list comprehension에서 idx를 통해 여러개의 list에 접근하는 방법을 연습해봅니다."
   ]
  },
  {
   "cell_type": "code",
   "execution_count": null,
   "metadata": {
    "pycharm": {
     "name": "#%%\n"
    }
   },
   "outputs": [],
   "source": [
    "m_scores = [10*m_score for m_score in range(10)]\n",
    "e_scores = [20*e_score for e_score in range(10)]\n",
    "print(\"math scores: \", m_scores)\n",
    "print(\"english scores: \", e_scores, '\\n')\n",
    "\n",
    "score_sums = [m_scores[idx] + e_scores[idx] for idx in range(len(m_scores))]\n",
    "print(\"sum of scores: \", score_sums)"
   ]
  },
  {
   "cell_type": "markdown",
   "metadata": {
    "pycharm": {
     "name": "#%% md\n"
    }
   },
   "source": [
    "## Exercise.2 - 49: Comprehension + zip\n",
    "List comprehension은 for loop의 대신이므로 for loop처럼 zip과 함께 사용될 수 있습니다.<br>\n",
    "이번엔 여러개의 list에 접근하는 두 번째 방법인 zip을 list comprehension에서 사용하는 방법을 연습해봅니다."
   ]
  },
  {
   "cell_type": "code",
   "execution_count": null,
   "metadata": {
    "pycharm": {
     "name": "#%%\n"
    }
   },
   "outputs": [],
   "source": [
    "m_scores = [10*m_score for m_score in range(10)]\n",
    "e_scores = [20*e_score for e_score in range(10)]\n",
    "print(\"math scores: \", m_scores)\n",
    "print(\"english scores: \", e_scores, '\\n')\n",
    "\n",
    "score_sums = [m_score + e_score for (m_score, e_score) in zip(m_scores, e_scores)]\n",
    "print(\"sum of scores: \", score_sums)"
   ]
  },
  {
   "cell_type": "markdown",
   "metadata": {
    "pycharm": {
     "name": "#%% md\n"
    }
   },
   "source": [
    "# Exercise Goupr.13: Dictionary Comprehension"
   ]
  },
  {
   "cell_type": "markdown",
   "metadata": {
    "pycharm": {
     "name": "#%% md\n"
    }
   },
   "source": [
    "## Exercise.2 - 50: Dictionary Comprehension\n",
    "List comprehension과 마찬가지로 dict도 comprehension으로 만들 수 있습니다.<br>\n",
    "두 개의 list에서 하나는 key, 다른 하나는 value에 입력되는 dict를 만들어봅니다."
   ]
  },
  {
   "cell_type": "code",
   "execution_count": null,
   "metadata": {
    "pycharm": {
     "name": "#%%\n"
    }
   },
   "outputs": [],
   "source": [
    "names = ['A', 'B', 'C', 'D', 'E']\n",
    "scores = [50, 20, 30, 40, 50]\n",
    "\n",
    "name_score_dict = dict()\n",
    "for name, score in zip(names, scores):\n",
    "    name_score_dict[name] = score\n",
    "print(name_score_dict)\n",
    "\n",
    "name_score_dict = {name : score for name, score in zip(names, scores)}\n",
    "print(name_score_dict)"
   ]
  },
  {
   "cell_type": "markdown",
   "metadata": {
    "pycharm": {
     "name": "#%% md\n"
    }
   },
   "source": [
    "## Exercise.2 - 51: Dictionary to List(keys, values)\n",
    "dict.keys, dict.values를 이용해서 key, value에 대한 list를 만들어봅니다. <br>\n",
    "dict에서 value만을 뽑아 list comprehension을 통해 새로운 list를 만들어봅니다."
   ]
  },
  {
   "cell_type": "code",
   "execution_count": null,
   "metadata": {
    "pycharm": {
     "name": "#%%\n"
    }
   },
   "outputs": [],
   "source": [
    "name_score_dict = {'A': 50, 'B': 20, 'C': 30, 'D': 40, 'E': 50}\n",
    "\n",
    "names = list(name_score_dict.keys())\n",
    "scores = list(name_score_dict.values())\n",
    "print(names)\n",
    "print(scores)\n",
    "\n",
    "doubled_scores = [2*score for score in name_score_dict.values()]\n",
    "print(doubled_scores)\n",
    "\n",
    "student_names = ['Student: ' + name for name in name_score_dict.keys()]\n",
    "print(student_names)"
   ]
  },
  {
   "cell_type": "markdown",
   "metadata": {
    "pycharm": {
     "name": "#%% md\n"
    }
   },
   "source": [
    "## Exercise.2 - 52: Dictionary to Dictionary Comprehension\n",
    "dict.items는 차례차례 key, value를 돌려주는 역할을 합니다.<br>\n",
    "이 dict.items를 이용하여 새로운 dict를 만드는 방법을 연습해봅니다."
   ]
  },
  {
   "cell_type": "code",
   "execution_count": null,
   "metadata": {
    "pycharm": {
     "name": "#%%\n"
    }
   },
   "outputs": [],
   "source": [
    "name_score_dict = {'A': 50, 'B': 20, 'C': 30, 'D': 40, 'E': 50}\n",
    "\n",
    "double_name_score_dict = {name:2*score for name, score in name_score_dict.items()}\n",
    "print(double_name_score_dict)"
   ]
  },
  {
   "cell_type": "markdown",
   "metadata": {
    "pycharm": {
     "name": "#%% md\n"
    }
   },
   "source": [
    "## Exercise.2 - 53: Key, Value 바꾸기\n",
    "dict.items와 dictionary comprehension을 통해 key와 value를 바꾸는 방법을 연습해봅니다. <br>\n",
    "이를 통해 dictionary comprehension에 대한 이해도를 높일 수 있으며, 실제로 자주 사용되는 스킬입니다."
   ]
  },
  {
   "cell_type": "code",
   "execution_count": null,
   "metadata": {
    "pycharm": {
     "name": "#%%\n"
    }
   },
   "outputs": [],
   "source": [
    "name_score_dict = {'A': 50, 'B': 20, 'C': 30, 'D': 40, 'E': 50}\n",
    "\n",
    "score_name_dict = {v : k for k, v in name_score_dict.items()}\n",
    "print(name_score_dict)\n",
    "print(score_name_dict)"
   ]
  },
  {
   "cell_type": "markdown",
   "metadata": {
    "pycharm": {
     "name": "#%% md\n"
    }
   },
   "source": [
    "# Exercise Group.14: Importing Modules"
   ]
  },
  {
   "cell_type": "markdown",
   "metadata": {
    "pycharm": {
     "name": "#%% md\n"
    }
   },
   "source": [
    "## Exercise.2 - 54: random.randint\n",
    "여태 프로그래밍을 하면서 가장 불편했던 점이 random data를 직접 만드는 과정이었을 것입니다. <br>\n",
    "Library에 대한 개념을 이해하고, python에서 사용할 수 있는 추가 기능들을 사용해봅니다.<br>\n",
    "또한 만들어진 random data를 앞에서 다룬 histogram을 이용하여 실제로 내가 원하는 data가 만들어졌는지 확인해봅니다."
   ]
  },
  {
   "cell_type": "code",
   "execution_count": null,
   "metadata": {
    "pycharm": {
     "name": "#%%\n"
    }
   },
   "outputs": [],
   "source": [
    "import random\n",
    "\n",
    "# generate random data from randint\n",
    "# method.1\n",
    "scores = list()\n",
    "for _ in range(100):\n",
    "    scores.append(random.randint(0, 99))\n",
    "\n",
    "# method.2\n",
    "scores = [random.randint(0, 99) for _ in range(1000000)]\n",
    "\n",
    "# calculate the histogram for check\n",
    "n_bin = 100\n",
    "hist_range = [0, 100]\n",
    "interval = (hist_range[1] - hist_range[0])/n_bin\n",
    "cutoffs = list()\n",
    "hist = list()\n",
    "\n",
    "for cutoff in range(n_bin):\n",
    "    cutoff = hist_range[0] + interval*cutoff\n",
    "    cutoffs.append(cutoff)\n",
    "    hist.append(0)\n",
    "\n",
    "for score in scores:\n",
    "    for cutoff_idx in range(n_bin):\n",
    "        cutoff = cutoffs[cutoff_idx]\n",
    "        diff = score - cutoff\n",
    "        if diff >= 0 and diff < interval:\n",
    "            hist[cutoff_idx] += 1\n",
    "            break\n",
    "\n",
    "# [Note] Don't care about this code for now\n",
    "# We'll cover this shortly\n",
    "import matplotlib.pyplot as plt\n",
    "fig, ax = plt.subplots(figsize=(20, 10))\n",
    "ax.bar(cutoffs, hist, width=interval, edgecolor='skyblue', linewidth=3, align='edge')\n",
    "ax.tick_params(labelsize=20)"
   ]
  },
  {
   "cell_type": "markdown",
   "metadata": {
    "pycharm": {
     "name": "#%% md\n"
    }
   },
   "source": [
    "## Exercise.2 - 55: random.gauss\n",
    "가장 많이 사용되는 random data는 normal/Gauss distribution에서 부터 만들어진 data입니다.<br>\n",
    "현실에 많은 data가 normal distribution을 따르며, noise 중 상당히 많은 비중을 차지하는 <br>\n",
    "Additive White Gaussian Noise(AWGN)을 만들어 낼 때도 사용됩니다.<br>\n",
    "**(참고)** TV에서 아무것도 송출되지 않을 때 나오는 지지직거리는 화면과 소리가 대표적인 AWGN의 시각적, 청각적 예시입니다."
   ]
  },
  {
   "cell_type": "code",
   "execution_count": null,
   "metadata": {
    "pycharm": {
     "name": "#%%\n"
    }
   },
   "outputs": [],
   "source": [
    "import random\n",
    "\n",
    "# generate random data from the Gaussian distribution\n",
    "# method.1\n",
    "scores = list()\n",
    "n_student = 1000\n",
    "for _ in range(n_student):\n",
    "    scores.append(random.gauss(0, 3))\n",
    "# method.2\n",
    "scores = [random.gauss(3, 3) for _ in range(n_student)]\n",
    "\n",
    "# calculate the histogram for check\n",
    "n_bin = 100\n",
    "hist_range = [-10, 10] # [NOTE] the range\n",
    "interval = (hist_range[1] - hist_range[0])/n_bin\n",
    "cutoffs = list()\n",
    "hist = list()\n",
    "\n",
    "for cutoff in range(n_bin):\n",
    "    cutoff = hist_range[0] + interval*cutoff\n",
    "    cutoffs.append(cutoff)\n",
    "    hist.append(0)\n",
    "\n",
    "for score in scores:\n",
    "    for cutoff_idx in range(n_bin):\n",
    "        cutoff = cutoffs[cutoff_idx]\n",
    "        diff = score - cutoff\n",
    "        if diff >= 0 and diff < interval:\n",
    "            hist[cutoff_idx] += 1\n",
    "            break\n",
    "\n",
    "print(hist)\n",
    "\n",
    "# [Note] Don't care about this code for now\n",
    "# We'll cover this shortly\n",
    "import matplotlib.pyplot as plt\n",
    "fig, ax = plt.subplots(figsize=(20, 10))\n",
    "ax.bar(cutoffs, hist, width=interval, edgecolor='skyblue', linewidth=3, align='edge')\n",
    "ax.tick_params(labelsize=20)"
   ]
  },
  {
   "cell_type": "markdown",
   "metadata": {
    "pycharm": {
     "name": "#%% md\n"
    }
   },
   "source": [
    "## Exercise.2 - 56: Math Library\n",
    "random module 뿐만 아니라 우리는 다른 기능들도 필요할 때가 많습니다. <br>\n",
    "이번엔 math library를 import하여 이 library가 제공하는 기능들을 사용해봅니다. <br>\n",
    "**(참고)** 각각은 추후 NumPy라는 third-party library를 이용하여 더 쉽게 사용할 수 있습니다."
   ]
  },
  {
   "cell_type": "code",
   "execution_count": null,
   "metadata": {
    "pycharm": {
     "name": "#%%\n"
    }
   },
   "outputs": [],
   "source": [
    "import math\n",
    "\n",
    "PI = math.pi\n",
    "print('PI value: ', PI)\n",
    "\n",
    "sin = math.sin(PI)\n",
    "cos = math.cos(PI)\n",
    "\n",
    "print('sin(PI[radian]): ', sin)\n",
    "print('cos(PI[radian]): ', cos)\n",
    "\n",
    "degree = 90\n",
    "sin = math.sin(degree/180*PI)\n",
    "cos = math.cos(degree/180*PI)\n",
    "\n",
    "print('sin(90[degree]): ', sin)\n",
    "print('cos(90[degree]): ', cos)"
   ]
  },
  {
   "cell_type": "markdown",
   "metadata": {
    "pycharm": {
     "name": "#%% md\n"
    }
   },
   "source": [
    "## Exercise.2 - 57: Linear space\n",
    "많은 경우 우리는 linear space가 필요합니다. <br>\n",
    "가장 대표적으로 우리가 다루는 컴퓨터에서 analog signal을 모사하기 위해 촘촘히 x값들을 만들어냅니다. <br>\n",
    "앞으로 다룰 함수의 그래프를 그리기 위해 linear space를 만들어봅니다."
   ]
  },
  {
   "cell_type": "code",
   "execution_count": null,
   "metadata": {
    "pycharm": {
     "name": "#%%\n"
    }
   },
   "outputs": [],
   "source": [
    "# set the linear space conditions\n",
    "low, high = 0, 50\n",
    "n_data = 11\n",
    "\n",
    "# calculate the interval between points\n",
    "interval = (high - low)/(n_data - 1)\n",
    "\n",
    "# get the linearly-spaced values\n",
    "# from low to high\n",
    "linspace = list()\n",
    "for data_idx in range(n_data):\n",
    "    linspace.append(low + data_idx*interval)\n",
    "\n",
    "print(\"length of linspace: \", len(linspace))\n",
    "print(linspace)"
   ]
  },
  {
   "cell_type": "markdown",
   "metadata": {
    "pycharm": {
     "name": "#%% md\n"
    }
   },
   "source": [
    "## Exercise.2 - 58: Matplotlib\n",
    "Deep learning에서 다루는 다양한 함수들을 그래프로 나타내기 위해 <br>\n",
    "data science에서 data 시각화를 위해 가장 많이 사용되는 third-party library인 Matplotlib을 사용해봅니다.\n",
    "**(참고)** Third-party library들은 따로 설치를 해줘야 하는 library들입니다."
   ]
  },
  {
   "cell_type": "code",
   "execution_count": null,
   "metadata": {
    "pycharm": {
     "name": "#%%\n"
    }
   },
   "outputs": [],
   "source": [
    "import random\n",
    "import matplotlib.pyplot as plt\n",
    "\n",
    "# line plot\n",
    "scores = [50, 30, 90, 70, 30, 95, 40]\n",
    "fig, ax = plt.subplots(figsize=(10, 5))\n",
    "ax.plot(scores)\n",
    "\n",
    "# scatter plot\n",
    "x_data, y_data = list(), list()\n",
    "n_data = 1000\n",
    "for _ in range(n_data):\n",
    "    x_data.append(random.gauss(0, 1))\n",
    "    y_data.append(random.gauss(0, 1))\n",
    "fig, ax = plt.subplots(figsize=(5, 5))\n",
    "ax.scatter(x_data, y_data)\n",
    "ax.set_xlim([-5, 5])\n",
    "ax.set_ylim([-5, 5])\n",
    "\n",
    "# histogram\n",
    "scores = list()\n",
    "n_student = 10000\n",
    "for _ in range(n_student):\n",
    "    scores.append(random.gauss(50, 5))\n",
    "fig, ax = plt.subplots(figsize=(5, 5))\n",
    "ax.hist(scores)"
   ]
  },
  {
   "cell_type": "markdown",
   "metadata": {
    "pycharm": {
     "name": "#%% md\n"
    }
   },
   "source": [
    "# Exercise Group.15: 초월함수의 그래프"
   ]
  },
  {
   "cell_type": "markdown",
   "metadata": {
    "pycharm": {
     "name": "#%% md\n"
    }
   },
   "source": [
    "## Exercise.2 - 59: Sin, Cos Graphs\n",
    "위에서 다룬 linear space와 math, Matplotlib library를 이용하여 <br>\n",
    "sin, cos의 함수를 시각화해봅니다."
   ]
  },
  {
   "cell_type": "code",
   "execution_count": null,
   "metadata": {
    "pycharm": {
     "name": "#%%\n"
    }
   },
   "outputs": [],
   "source": [
    "import math\n",
    "import matplotlib.pyplot as plt\n",
    "PI = math.pi\n",
    "\n",
    "# set the linear space\n",
    "low, high = 0, 4*PI\n",
    "n_data = 100\n",
    "\n",
    "interval = (high - low)/(n_data - 1)\n",
    "linspace = [low + data_idx*interval for data_idx in range(n_data)]\n",
    "\n",
    "# lists for sin, cos\n",
    "sin = [math.sin(data) for data in linspace]\n",
    "cos = [math.cos(data) for data in linspace]\n",
    "\n",
    "# visualize the sin, cos graphs\n",
    "fig, ax = plt.subplots(figsize=(10, 5))\n",
    "ax.plot(linspace, sin, label='sin')\n",
    "ax.plot(linspace, cos, label='cos')\n",
    "ax.legend(fontsize=20)"
   ]
  },
  {
   "cell_type": "markdown",
   "metadata": {
    "pycharm": {
     "name": "#%% md\n"
    }
   },
   "source": [
    "## Exercise.2 - 60: Exp, Log Graphs\n",
    "Data science에서 가장 많이 사용되는 함수들인 exp, los 함수들을 그려봅니다."
   ]
  },
  {
   "cell_type": "code",
   "execution_count": null,
   "metadata": {
    "pycharm": {
     "name": "#%%\n"
    }
   },
   "outputs": [],
   "source": [
    "import math\n",
    "import matplotlib.pyplot as plt\n",
    "\n",
    "# set the linear space\n",
    "low, high = 0.1, 10\n",
    "n_data = 100\n",
    "\n",
    "interval = (high - low)/(n_data - 1)\n",
    "linspace = [low + data_idx*interval for data_idx in range(n_data)]\n",
    "    \n",
    "# lists for log, exp\n",
    "exp = [math.exp(data) for data in linspace]\n",
    "log = [math.log(data) for data in linspace]\n",
    "\n",
    "# visualize the log, exp\n",
    "fig, axes = plt.subplots(2, 1, figsize=(20, 10))\n",
    "axes[0].plot(linspace, log)\n",
    "axes[1].plot(linspace, exp)\n",
    "for ax_idx, ax in enumerate(axes.flat):\n",
    "    ax.axvline(x=0, color='k', linestyle=':')\n",
    "    ax.axhline(y=0, color='k', linestyle=':')\n",
    "    ax.tick_params(labelsize=20)"
   ]
  },
  {
   "cell_type": "markdown",
   "metadata": {
    "pycharm": {
     "name": "#%% md\n"
    }
   },
   "source": [
    "## Exercise.2 - 61: Sigmoid Graph\n",
    "math.exp를 이용하여 sigmoid 함수의 graph를 그려봅니다.<br>\n",
    "<font size=\"5\">\n",
    "    $$\\sigma(x) = \\frac{1}{1 + e^{-x}}$$\n",
    "</font>\n",
    "\n",
    "**(참고)**<br>\n",
    "지금은 이 함수의 의미가 무엇인지 몰라도 됩니다. <br>\n",
    "다만 deep learning에서 상당히 많이 다뤄지는 함수라는 것만 알아주세요."
   ]
  },
  {
   "cell_type": "code",
   "execution_count": null,
   "metadata": {
    "pycharm": {
     "name": "#%%\n"
    }
   },
   "outputs": [],
   "source": [
    "import math\n",
    "import matplotlib.pyplot as plt\n",
    "\n",
    "# set the linear space\n",
    "low, high = -10, 10\n",
    "n_data = 100\n",
    "\n",
    "interval = (high - low)/(n_data - 1)\n",
    "linspace = [low + data_idx*interval for data_idx in range(n_data)]\n",
    "\n",
    "# calculate sigmoid function\n",
    "sigmoid = list()\n",
    "for data in linspace:\n",
    "    sigmoid.append(1/(1 + math.exp(-data)))\n",
    "\n",
    "fig, ax = plt.subplots(figsize=(15, 5))\n",
    "ax.plot(linspace, sigmoid)\n",
    "ax.grid()\n"
   ]
  },
  {
   "cell_type": "markdown",
   "metadata": {
    "pycharm": {
     "name": "#%% md\n"
    }
   },
   "source": [
    "## Exercise.2 - 62: Tanh Graph\n",
    "Tanh도 deep learning에서 자주 등장하는 친구입니다. <br>\n",
    "특히, recurrent neural network에서 여러분들은 자주 보게 될 것입니다. <br>\n",
    "이 함수가 있다는 것만 알아주시고, 식을 구현하는데 더 집중해주세요.\n",
    "$$sinh(x) = \\frac{e^{x} - e^{-x}}{2}$$\n",
    "$$cosh(x) = \\frac{e^{x} + e^{-x}}{2}$$\n",
    "<font size=\"5\">\n",
    "    $$tanh(x) = \n",
    "    \\frac{sinh(x)}{cosh(x)} = \n",
    "    \\frac{e^{x} - e^{-x}}{e^{x} + e^{-x}}$$\n",
    "</font>"
   ]
  },
  {
   "cell_type": "code",
   "execution_count": null,
   "metadata": {
    "pycharm": {
     "name": "#%%\n"
    }
   },
   "outputs": [],
   "source": [
    "import math\n",
    "import matplotlib.pyplot as plt\n",
    "\n",
    "# set the linear space\n",
    "low, high = -10, 10\n",
    "n_data = 100\n",
    "\n",
    "interval = (high - low)/(n_data - 1)\n",
    "linspace = [low + data_idx*interval for data_idx in range(n_data)]\n",
    "\n",
    "# calculate tanh function\n",
    "tanh = list()\n",
    "for data in linspace:\n",
    "    numer = math.exp(data) - math.exp(-data)\n",
    "    denom = math.exp(data) + math.exp(-data)\n",
    "    tanh.append(numer/denom)\n",
    "\n",
    "fig, ax = plt.subplots(figsize=(20, 10))\n",
    "ax.plot(linspace, tanh)\n",
    "ax.grid()"
   ]
  },
  {
   "cell_type": "markdown",
   "metadata": {
    "pycharm": {
     "name": "#%% md\n"
    }
   },
   "source": [
    "## Exercise.2 - 63: ReLU Graph\n",
    "Sigmoid, tanh에 이어 우리가 자주 보게 될 친구는 Rectified Linear Unit(ReLU)입니다.<br>\n",
    "마찬가지로 지금은 식을 보고, 그래프로 그리는데 집중해주세요.\n",
    "<font size=\"5\">\n",
    "    $$ReLU(x) = max(0, x)$$\n",
    "</font>"
   ]
  },
  {
   "cell_type": "code",
   "execution_count": null,
   "metadata": {
    "pycharm": {
     "name": "#%%\n"
    }
   },
   "outputs": [],
   "source": [
    "import matplotlib.pyplot as plt\n",
    "\n",
    "# set the linear space\n",
    "low, high = -10, 10\n",
    "n_data = 100\n",
    "\n",
    "interval = (high - low)/(n_data - 1)\n",
    "linspace = [low + data_idx*interval for data_idx in range(n_data)]\n",
    "\n",
    "# calculate relu function\n",
    "relu = list()\n",
    "for data in linspace:\n",
    "    if data >= 0:\n",
    "        relu.append(data)\n",
    "    else:\n",
    "        relu.append(0)\n",
    "\n",
    "fig, ax = plt.subplots(figsize=(20, 10))\n",
    "ax.plot(linspace, relu)\n",
    "ax.grid()"
   ]
  },
  {
   "cell_type": "markdown",
   "metadata": {
    "pycharm": {
     "name": "#%% md\n"
    }
   },
   "source": [
    "## Exercise.2 - 64: Information Graph\n",
    "정보이론에서 다루는 information을 그려봅니다. <br>\n",
    "이론적인 내용은 deep learning 강의에서 다룰 것이니 구현에 집중해주세요.\n",
    "<font size=\"5\">\n",
    "    $$I(p) = -log(p) = log\\bigg( \\frac{1}{p} \\bigg), \\quad where \\; 0 < p < 1$$\n",
    "</font>"
   ]
  },
  {
   "cell_type": "code",
   "execution_count": null,
   "metadata": {
    "pycharm": {
     "name": "#%%\n"
    }
   },
   "outputs": [],
   "source": [
    "import math\n",
    "import matplotlib.pyplot as plt\n",
    "\n",
    "# set the linear space\n",
    "low, high = 0.001, 1\n",
    "n_data = 100\n",
    "\n",
    "interval = (high - low)/(n_data - 1)\n",
    "linspace = [low + data_idx*interval for data_idx in range(n_data)]\n",
    "\n",
    "# calculate information function\n",
    "information = [-math.log(p) for p in linspace]\n",
    "\n",
    "fig, ax = plt.subplots(figsize=(20, 10))\n",
    "ax.plot(linspace, information)\n",
    "ax.tick_params(labelsize=30)\n",
    "ax.grid()\n",
    "ax.set_xlabel(\"Probability\", fontsize=30)\n",
    "ax.set_ylabel(\"Information\", fontsize=30)"
   ]
  },
  {
   "cell_type": "markdown",
   "metadata": {
    "pycharm": {
     "name": "#%% md\n"
    }
   },
   "source": [
    "## Exercise.2 - 65: Binary Entropy Graph\n",
    "Information과 마찬가지로, 의미보단 구현에 집중해주세요.\n",
    "<font size=\"5\">\n",
    "    $$H(x) = -\\big( plog(p) + (1-p)log(1-p) \\big)$$\n",
    "</font>"
   ]
  },
  {
   "cell_type": "code",
   "execution_count": null,
   "metadata": {
    "pycharm": {
     "name": "#%%\n"
    }
   },
   "outputs": [],
   "source": [
    "import math\n",
    "import matplotlib.pyplot as plt\n",
    "\n",
    "# set the linear space\n",
    "low, high = 0.001, 0.999\n",
    "n_data = 100\n",
    "\n",
    "interval = (high - low)/(n_data - 1)\n",
    "linspace = [low + data_idx*interval for data_idx in range(n_data)]\n",
    "\n",
    "# calculate binary entropy function\n",
    "binary_entropy = list()\n",
    "for p in linspace:\n",
    "    entropy = -(p*math.log(p) + (1-p)*math.log(1-p))\n",
    "    binary_entropy.append(entropy)\n",
    "\n",
    "fig, ax = plt.subplots(figsize=(15, 5))\n",
    "ax.plot(linspace, binary_entropy)\n",
    "ax.set_xlabel(\"Probability\", fontsize=20)\n",
    "ax.set_ylabel(\"Binary Entropy\", fontsize=20)\n",
    "ax.tick_params(labelsize=15)\n",
    "ax.grid()  "
   ]
  },
  {
   "cell_type": "markdown",
   "metadata": {
    "pycharm": {
     "name": "#%% md\n"
    }
   },
   "source": [
    "# Exercise Group.16: Pooling\n",
    "<font color=\"darkblue\">\n",
    "    지금부터는 deep learning에서 가장 많이 사용되는 개념들을 직접 만들어봅니다. <br>\n",
    "    <font color=\"red\"> 꼭! </font>\n",
    "    각 개념에 대한 설명을 들은 뒤 미리 만들어 본 뒤에, 구현 강의를 들어주세요.\n",
    "</font>"
   ]
  },
  {
   "cell_type": "markdown",
   "metadata": {
    "pycharm": {
     "name": "#%% md\n"
    }
   },
   "source": [
    "## Exercise.2 - 66: Average Pooling with Indexing\n",
    "<br>\n",
    "<font size=\"5\">\n",
    "    $$ p[i] = \\frac{1}{2s+1}\\sum_{\\alpha=i-s}^{i+s} w[\\alpha] $$\n",
    "</font>\n",
    "\n",
    "\n",
    "<br>\n",
    "<font size=\"5\">\n",
    "    $$ L_{o} = L_{i} - L_{p} + 1 $$\n",
    "</font>\n",
    "\n",
    "<br>\n",
    "<font color='darkred', size=\"5\">\n",
    "    <center>\n",
    "        <b> 미리 구현해보기 10분 </b>\n",
    "    </center>\n",
    "</font>\n"
   ]
  },
  {
   "cell_type": "code",
   "execution_count": null,
   "metadata": {
    "pycharm": {
     "name": "#%%\n"
    }
   },
   "outputs": [],
   "source": [
    "import random\n",
    "\n",
    "# set the pool size\n",
    "pool_size = 3\n",
    "\n",
    "# generate random data\n",
    "data = [random.randint(0, 10) for _ in range(10)]\n",
    "data_len = len(data)\n",
    "print(\"Input data: \", data)\n",
    "print(\"Length of data: \", len(data), '\\n')\n",
    "\n",
    "# calculate the valid length\n",
    "valid_len = data_len - (pool_size - 1)\n",
    "\n",
    "# average pooling\n",
    "pooled = list()\n",
    "for pool_loc in range(valid_len):\n",
    "    # extract the window\n",
    "    window = list()\n",
    "    for window_val_idx in range(pool_size):\n",
    "        window.append(data[pool_loc+window_val_idx])\n",
    "    \n",
    "    # calculate the average of the window\n",
    "    window_sum = 0\n",
    "    for val in window:\n",
    "        window_sum += val\n",
    "        \n",
    "    pooled.append(window_sum/pool_size)\n",
    "\n",
    "print(\"Pooled data: \", pooled)\n",
    "print(\"Length of pooled data: \", len(pooled))"
   ]
  },
  {
   "cell_type": "markdown",
   "metadata": {
    "pycharm": {
     "name": "#%% md\n"
    }
   },
   "source": [
    "## Exercise.2 - 67: List Slicing\n",
    "List에서 많이 사용되는 list를 배워봅니다. <br>\n",
    "이는 이후 window를 설정하는데 계속 사용됩니다."
   ]
  },
  {
   "cell_type": "code",
   "execution_count": null,
   "metadata": {
    "pycharm": {
     "name": "#%%\n"
    }
   },
   "outputs": [],
   "source": [
    "numbers = [10, 20, 30, 40, 50, 60]\n",
    "\n",
    "print(numbers[1:5])\n",
    "print(numbers[3:5], '\\n')\n",
    "\n",
    "print(numbers[:5])\n",
    "print(numbers[3:], '\\n')\n",
    "\n",
    "print(numbers[0:6:2])\n",
    "print(numbers[0:6:3], '\\n')\n",
    "\n",
    "print(numbers[::-1])"
   ]
  },
  {
   "cell_type": "markdown",
   "metadata": {
    "pycharm": {
     "name": "#%% md\n"
    }
   },
   "source": [
    "## Exercise.2 - 68: Average Pooling with Slicing\n",
    "List slicing을 이용하여 average pooling을 다시 구현해봅니다.\n",
    "\n",
    "<br>\n",
    "<font color='darkred', size=\"5\">\n",
    "    <center>\n",
    "        <b> 미리 구현해보기 5분 </b>\n",
    "    </center>\n",
    "</font>"
   ]
  },
  {
   "cell_type": "code",
   "execution_count": null,
   "metadata": {
    "pycharm": {
     "name": "#%%\n"
    }
   },
   "outputs": [],
   "source": [
    "import random\n",
    "\n",
    "pool_size = 3\n",
    "\n",
    "data = [random.randint(0, 10) for _ in range(10)]\n",
    "data_len = len(data)\n",
    "print(\"Input data: \", data)\n",
    "print(\"Length of data: \", len(data), '\\n')\n",
    "\n",
    "valid_len = data_len - (pool_size - 1)\n",
    "\n",
    "pooled = list()\n",
    "for pool_loc in range(valid_len):\n",
    "    # [NOTE] how to extract the window using list slicing\n",
    "    window = data[pool_loc:pool_loc+pool_size]\n",
    "    \n",
    "    window_sum = 0\n",
    "    for window_val in window:\n",
    "        window_sum += window_val\n",
    "    pooled.append(window_sum/pool_size)\n",
    "    \n",
    "print(\"Pooled data: \", pooled)\n",
    "print(\"Length of pooled data: \", len(pooled))"
   ]
  },
  {
   "cell_type": "markdown",
   "metadata": {
    "pycharm": {
     "name": "#%% md\n"
    }
   },
   "source": [
    "## Exercise.2 - 69: Max Pooling with Slicing\n",
    "<br>\n",
    "<font size=\"5\">\n",
    "    $$ p[i] = max(W_{i}) $$\n",
    "</font>\n",
    "\n",
    "\n",
    "<br>\n",
    "<font size=\"5\">\n",
    "    $$ L_{o} = L_{i} - L_{p} + 1 $$\n",
    "</font>\n",
    "\n",
    "<br>\n",
    "<font color='darkred', size=\"5\">\n",
    "    <center>\n",
    "        <b> 미리 구현해보기 10분 </b>\n",
    "    </center>\n",
    "</font>"
   ]
  },
  {
   "cell_type": "code",
   "execution_count": null,
   "metadata": {
    "pycharm": {
     "name": "#%%\n"
    }
   },
   "outputs": [],
   "source": [
    "import random\n",
    "\n",
    "pool_size = 3\n",
    "\n",
    "data = [random.randint(0, 10) for _ in range(10)]\n",
    "data_len = len(data)\n",
    "print(\"Input data: \", data)\n",
    "print(\"Length of data: \", len(data), '\\n')\n",
    "\n",
    "valid_len = data_len - (pool_size - 1)\n",
    "\n",
    "pooled = list()\n",
    "for pool_loc in range(valid_len):\n",
    "    window = data[pool_loc:pool_loc+pool_size]\n",
    "    \n",
    "    # calculate the max value\n",
    "    M = window[0]\n",
    "    for window_val in window:\n",
    "        if window_val > M:\n",
    "            M = window_val\n",
    "    pooled.append(M)\n",
    "    \n",
    "print(\"Pooled data: \", pooled)\n",
    "print(\"Length of pooled data: \", len(pooled))"
   ]
  },
  {
   "cell_type": "markdown",
   "metadata": {
    "pycharm": {
     "name": "#%% md\n"
    }
   },
   "source": [
    "# Exercise Group.17: Correlation & Convolution"
   ]
  },
  {
   "cell_type": "markdown",
   "metadata": {
    "pycharm": {
     "name": "#%% md\n"
    }
   },
   "source": [
    "## Exercise.2 - 70: Correlation\n",
    "<br>\n",
    "<font size=\"5\">\n",
    "    $$ \\vec{x} \\otimes \\vec{f} [i] = \\sum_{u=-k}^{k} x[i+u] f[v]$$\n",
    "</font>\n",
    "\n",
    "\n",
    "<br>\n",
    "<font size=\"5\">\n",
    "    $$ L_{o} = L_{i} - L_{f} + 1 $$\n",
    "</font>\n",
    "\n",
    "<br>\n",
    "<font color='darkred', size=\"5\">\n",
    "    <center>\n",
    "        <b> 미리 구현해보기 10분 </b>\n",
    "    </center>\n",
    "</font>"
   ]
  },
  {
   "cell_type": "code",
   "execution_count": null,
   "metadata": {
    "pycharm": {
     "name": "#%%\n"
    }
   },
   "outputs": [],
   "source": [
    "import random\n",
    "import matplotlib.pyplot as plt\n",
    "\n",
    "# generate random data\n",
    "data = [random.randint(-1, 1) for _ in range(30)]\n",
    "corr_filter = [-1, 1, 1]\n",
    "\n",
    "data_len = len(data)\n",
    "print(\"Input data: \", data)\n",
    "print(\"Length of data: \", len(data), '\\n')\n",
    "\n",
    "# get filter size and valid length\n",
    "filter_size = len(corr_filter)\n",
    "valid_len = data_len - (filter_size - 1)\n",
    "\n",
    "corr_vec = list()\n",
    "for co_loc in range(valid_len):\n",
    "    # extract the window\n",
    "    window = data[co_loc:co_loc+filter_size]\n",
    "    \n",
    "    # calculate the correlation\n",
    "    # between the window and the filter\n",
    "    corr = 0\n",
    "    for win, co in zip(window, corr_filter):\n",
    "        corr += win*co\n",
    "    corr_vec.append(corr)\n",
    "    \n",
    "print(\"Correlation: \", corr_vec)\n",
    "\n",
    "fig, ax = plt.subplots(figsize=(10, 5))\n",
    "# 0 for adjusting locations\n",
    "corr_vec = [0] + corr_vec\n",
    "ax.plot(data, label='data')\n",
    "ax.plot(corr_vec, label='correlation value')\n",
    "ax.legend(fontsize=10)\n",
    "ax.grid()"
   ]
  },
  {
   "cell_type": "markdown",
   "metadata": {
    "pycharm": {
     "name": "#%% md\n"
    }
   },
   "source": [
    "## Exercise.2 - 71: Convolution\n",
    "<br>\n",
    "<font size=\"5\">\n",
    "    $$ \\vec{x} * \\vec{f} [i] = \\sum_{u=-k}^{k} x[i+u] f[-v]$$\n",
    "</font>\n",
    "\n",
    "\n",
    "<br>\n",
    "<font size=\"5\">\n",
    "    $$ L_{o} = L_{i} - L_{f} + 1 $$\n",
    "</font>\n",
    "\n",
    "<br>\n",
    "<font color='darkred', size=\"5\">\n",
    "    <center>\n",
    "        <b> 미리 구현해보기 10분 </b>\n",
    "    </center>\n",
    "</font>"
   ]
  },
  {
   "cell_type": "code",
   "execution_count": null,
   "metadata": {
    "pycharm": {
     "name": "#%%\n"
    }
   },
   "outputs": [],
   "source": [
    "import random\n",
    "import matplotlib.pyplot as plt\n",
    "\n",
    "data = [random.randint(-1, 1) for _ in range(30)]\n",
    "corr_filter = [-1, 1, 1]\n",
    "\n",
    "data_len = len(data)\n",
    "print(\"Input data: \", data)\n",
    "print(\"Length of data: \", len(data), '\\n')\n",
    "\n",
    "filter_size = len(corr_filter)\n",
    "valid_len = data_len - (filter_size - 1)\n",
    "\n",
    "conv_vec = list()\n",
    "for co_loc in range(valid_len):\n",
    "    window = data[co_loc:co_loc+filter_size]\n",
    "    \n",
    "    conv = 0\n",
    "    # [NOTE] the reverse-ordered filter\n",
    "    for win, co in zip(window, corr_filter[::-1]):\n",
    "        conv += win*co\n",
    "    conv_vec.append(conv)\n",
    "    \n",
    "print(\"Convolution: \", conv_vec)\n",
    "\n",
    "fig, ax = plt.subplots(figsize=(10, 5))\n",
    "conv_vec = [0] + conv_vec\n",
    "ax.plot(data, label='data')\n",
    "ax.plot(conv_vec, label='convolution value')\n",
    "ax.legend(fontsize=10)\n",
    "ax.grid()"
   ]
  },
  {
   "cell_type": "markdown",
   "metadata": {
    "pycharm": {
     "name": "#%% md\n"
    }
   },
   "source": [
    "# Exercise Group.18: AveragePooling2D & MaxPooling2D"
   ]
  },
  {
   "cell_type": "markdown",
   "metadata": {
    "pycharm": {
     "name": "#%% md\n"
    }
   },
   "source": [
    "## Exercise.2 - 72: AveragePooling2D\n",
    "<br>\n",
    "<font size=\"5\">\n",
    "    $$ p[i,j] = \\frac{1}{(2s+1)(2t+1)}\n",
    "    \\sum_{\\alpha=i-s}^{i+s}\n",
    "    \\sum_{\\beta=j-t}^{j+t}\n",
    "    w[\\alpha, \\beta] $$\n",
    "</font>\n",
    "\n",
    "<br>\n",
    "<font size=\"5\">\n",
    "    $$ L_{o} = L_{i} - L_{p} + 1 $$\n",
    "</font>\n",
    "\n",
    "<br>\n",
    "<font color='darkred', size=\"5\">\n",
    "    <center>\n",
    "        <b> 미리 구현해보기 15분 </b>\n",
    "    </center>\n",
    "</font>"
   ]
  },
  {
   "cell_type": "code",
   "execution_count": null,
   "metadata": {
    "pycharm": {
     "name": "#%%\n"
    }
   },
   "outputs": [],
   "source": [
    "import random\n",
    "# set the pool size\n",
    "pool_size = 3\n",
    "\n",
    "# set the random data shape\n",
    "H, W = 4, 5\n",
    "\n",
    "# generate 2D data\n",
    "data = list()\n",
    "for _ in range(H):\n",
    "    data_row = list()\n",
    "    for _ in range(W):\n",
    "        data_row.append(random.randint(0, 5))\n",
    "    data.append(data_row)\n",
    "for row in data:\n",
    "    print(row)\n",
    "print('=====')\n",
    "\n",
    "# calculate the valid height, width\n",
    "valid_H, valid_W = H - (pool_size - 1), W - (pool_size - 1)\n",
    "\n",
    "pooled = list()\n",
    "for h in range(valid_H):\n",
    "    # initialize a zero vector for row sliding\n",
    "    pooled_vec = list()\n",
    "    for w in range(valid_W):\n",
    "        # extract the window\n",
    "        window = list()\n",
    "        for inner_h in range(pool_size):\n",
    "            window.append(data[h+inner_h][w:w+pool_size])\n",
    "        \n",
    "        # calculate the mean of the window\n",
    "        window_mean = 0\n",
    "        for inner_h in range(pool_size):\n",
    "            for inner_w in range(pool_size):\n",
    "                window_mean += window[inner_h][inner_w]\n",
    "        window_mean /= pool_size**2\n",
    "        print(\"window:\", window, \"pool value:\", window_mean)\n",
    "        \n",
    "        pooled_vec.append(window_mean)\n",
    "    pooled.append(pooled_vec)\n",
    "print('=====')\n",
    "\n",
    "for row in pooled:\n",
    "    print(row)"
   ]
  },
  {
   "cell_type": "markdown",
   "metadata": {
    "pycharm": {
     "name": "#%% md\n"
    }
   },
   "source": [
    "## Exercise.2 - 73: MaxPooling2D\n",
    "<br>\n",
    "<font size=\"5\">\n",
    "    $$ p[i,j] = max(W_{i,j}) $$\n",
    "</font>\n",
    "\n",
    "\n",
    "<br>\n",
    "<font size=\"5\">\n",
    "    $$ L_{o} = L_{i} - L_{p} + 1 $$\n",
    "</font>\n",
    "\n",
    "<br>\n",
    "<font color='darkred', size=\"5\">\n",
    "    <center>\n",
    "        <b> 미리 구현해보기 15분 </b>\n",
    "    </center>\n",
    "</font>"
   ]
  },
  {
   "cell_type": "code",
   "execution_count": null,
   "metadata": {
    "pycharm": {
     "name": "#%%\n"
    }
   },
   "outputs": [],
   "source": [
    "import random\n",
    "pool_size = 3\n",
    "H, W = 5, 6\n",
    "\n",
    "data = list()\n",
    "for _ in range(H):\n",
    "    data_row = list()\n",
    "    for _ in range(W):\n",
    "        data_row.append(random.randint(0, 100))\n",
    "    data.append(data_row)\n",
    "for row in data:\n",
    "    print(row)\n",
    "print('=====')\n",
    "\n",
    "valid_H, valid_W = H - (pool_size - 1), W - (pool_size - 1)\n",
    "\n",
    "pooled = list()\n",
    "for h in range(valid_H):\n",
    "    pooled_vec = list()\n",
    "    for w in range(valid_W):\n",
    "        window = list()\n",
    "        for inner_h in range(pool_size):\n",
    "            window.append(data[h+inner_h][w:w+pool_size])\n",
    "        \n",
    "        # calculate the maximum value in the window\n",
    "        M = window[0][0]\n",
    "        for window_row in window:\n",
    "            for window_val in window_row:\n",
    "                if window_val > M:\n",
    "                    M = window_val\n",
    "        print(\"window:\", window, \"pool value:\", M)\n",
    "        \n",
    "        pooled_vec.append(M)\n",
    "    pooled.append(pooled_vec)\n",
    "print('=====')\n",
    "\n",
    "for row in pooled:\n",
    "    print(row)"
   ]
  },
  {
   "cell_type": "markdown",
   "metadata": {
    "pycharm": {
     "name": "#%% md\n"
    }
   },
   "source": [
    "# Exercise Group.19: Corr2D & Conv2D"
   ]
  },
  {
   "cell_type": "markdown",
   "metadata": {
    "pycharm": {
     "name": "#%% md\n"
    }
   },
   "source": [
    "## Exercise.2 - 74: Corr2D\n",
    "<br>\n",
    "<font size=\"5\">\n",
    "    $$ \\vec{x} \\otimes \\vec{f} [i,j] =\n",
    "    \\sum_{u=-k}^{k} \\sum_{v=-k}^{k}\n",
    "    x[i+u, j+v] f[u, v]$$\n",
    "</font>\n",
    "\n",
    "\n",
    "<br>\n",
    "<font size=\"5\">\n",
    "    $$ L_{o} = L_{i} - L_{f} + 1 $$\n",
    "</font>\n",
    "\n",
    "<br>\n",
    "<font color='darkred', size=\"5\">\n",
    "    <center>\n",
    "        <b> 미리 구현해보기 15분 </b>\n",
    "    </center>\n",
    "</font>"
   ]
  },
  {
   "cell_type": "code",
   "execution_count": null,
   "metadata": {
    "pycharm": {
     "name": "#%%\n"
    }
   },
   "outputs": [],
   "source": [
    "import random\n",
    "\n",
    "# set the shapes of input image, filter\n",
    "filter_size = 3\n",
    "H, W = 5, 6\n",
    "\n",
    "# generate the random image\n",
    "data = list()\n",
    "for _ in range(H):\n",
    "    data_row = list()\n",
    "    for _ in range(W):\n",
    "        data_row.append(random.randint(0, 10))\n",
    "    data.append(data_row)\n",
    "for row in data:\n",
    "    print(row)\n",
    "print('=====')\n",
    "\n",
    "# generate the random filter\n",
    "corr_filter = list()\n",
    "for _ in range(filter_size):\n",
    "    corr_filter_row = list()\n",
    "    for _ in range(filter_size):\n",
    "        corr_filter_row.append(random.randint(0, 10))\n",
    "    corr_filter.append(corr_filter_row)\n",
    "\n",
    "valid_H, valid_W = H - (filter_size - 1), W - (filter_size - 1)\n",
    "\n",
    "corr_mat = list()\n",
    "for h in range(valid_H):\n",
    "    corr_vec = list()\n",
    "    for w in range(valid_W):\n",
    "        # extract the window\n",
    "        window = list()\n",
    "        for inner_h in range(filter_size):\n",
    "            window.append(data[h+inner_h][w:w+filter_size])\n",
    "        \n",
    "        # calculate the correlation value\n",
    "        corr = 0\n",
    "        for window_row, filter_row in zip(window, corr_filter):\n",
    "            for window_val, filter_val in zip(window_row, filter_row):\n",
    "                corr += window_val*filter_val\n",
    "        corr_vec.append(corr)\n",
    "    corr_mat.append(corr_vec)\n",
    "    \n",
    "for corr_vec in corr_mat:\n",
    "    print(tmp)"
   ]
  },
  {
   "cell_type": "markdown",
   "metadata": {
    "pycharm": {
     "name": "#%% md\n"
    }
   },
   "source": [
    "## Exercise.2 - 75: Conv2D\n",
    "<br>\n",
    "<font size=\"5\">\n",
    "    $$ \\vec{x} * \\vec{f} [i,j] =\n",
    "    \\sum_{u=-k}^{k} \\sum_{v=-k}^{k}\n",
    "    x[i+u, j+v] f[-u, -v]$$\n",
    "</font>\n",
    "\n",
    "\n",
    "<br>\n",
    "<font size=\"5\">\n",
    "    $$ L_{o} = L_{i} - L_{f} + 1 $$\n",
    "</font>\n",
    "\n",
    "<br>\n",
    "<font color='darkred', size=\"5\">\n",
    "    <center>\n",
    "        <b> 미리 구현해보기 15분 </b>\n",
    "    </center>\n",
    "</font>"
   ]
  },
  {
   "cell_type": "code",
   "execution_count": null,
   "metadata": {
    "pycharm": {
     "name": "#%%\n"
    }
   },
   "outputs": [],
   "source": [
    "import random\n",
    "\n",
    "filter_size = 3\n",
    "H, W = 5, 6\n",
    "\n",
    "data = list()\n",
    "for _ in range(H):\n",
    "    data_row = list()\n",
    "    for _ in range(W):\n",
    "        data_row.append(random.randint(0, 10))\n",
    "    data.append(data_row)\n",
    "for row in data:\n",
    "    print(row)\n",
    "print('=====')\n",
    "\n",
    "conv_filter = list()\n",
    "for _ in range(filter_size):\n",
    "    conv_filter_row = list()\n",
    "    for _ in range(filter_size):\n",
    "        conv_filter_row.append(random.randint(0, 10))\n",
    "    conv_filter.append(conv_filter_row)\n",
    "for row in conv_filter:\n",
    "    print(row)\n",
    "print('=====')\n",
    "\n",
    "valid_H, valid_W = H - (filter_size - 1), W - (filter_size - 1)\n",
    "\n",
    "conv_mat = list()\n",
    "for h in range(valid_H):\n",
    "    conv_vec = list()\n",
    "    for w in range(valid_W):\n",
    "        window = list()\n",
    "        for inner_h in range(filter_size):\n",
    "            window.append(data[h+inner_h][w:w+filter_size])\n",
    "        \n",
    "        # vectorize the window and filter\n",
    "        window_flatten, filter_flatten = list(), list()\n",
    "        for inner_h in range(filter_size):\n",
    "            for inner_w in range(filter_size):\n",
    "                window_flatten.append(window[inner_h][inner_w])\n",
    "                filter_flatten.append(conv_filter[inner_h][inner_w])\n",
    "        # flip the filter\n",
    "        filter_flatten = filter_flatten[::-1]\n",
    "        \n",
    "        # calculate the convolution value\n",
    "        conv = 0\n",
    "        for window_val, filter_val in zip(window_flatten, filter_flatten):\n",
    "            conv += window_val*filter_val\n",
    "        \n",
    "        conv_vec.append(conv)\n",
    "    conv_mat.append(conv_vec)\n",
    "    \n",
    "for tmp in conv_mat:\n",
    "    print(tmp)"
   ]
  },
  {
   "cell_type": "markdown",
   "metadata": {
    "pycharm": {
     "name": "#%% md\n"
    }
   },
   "source": [
    "# Exercise Group.20 (Mini-project) Edge Detection"
   ]
  },
  {
   "cell_type": "markdown",
   "metadata": {
    "pycharm": {
     "name": "#%% md\n"
    }
   },
   "source": [
    "## Exercise.2 - 76: Edge Detection with Sobel Filter\n",
    "Corr2D가 실제 영상신호처리에서 어떻게 사용되는지 edge filtering을 통해 배워봅니다. <br>\n",
    "이를 통해 filtering의 개념을 이해합니다."
   ]
  },
  {
   "cell_type": "code",
   "execution_count": null,
   "metadata": {
    "pycharm": {
     "name": "#%%\n"
    }
   },
   "outputs": [],
   "source": [
    "import matplotlib.pyplot as plt\n",
    "\n",
    "def rgb2gray(rgb):\n",
    "\n",
    "    r, g, b = rgb[:,:,0], rgb[:,:,1], rgb[:,:,2]\n",
    "    gray = 0.2989 * r + 0.5870 * g + 0.1140 * b\n",
    "\n",
    "    return gray\n",
    "\n",
    "img = plt.imread('./lena.jpg')\n",
    "img = rgb2gray(img).tolist()\n",
    "\n",
    "sobel_x = [[-1, 0, 1],\n",
    "           [-2, 0, 2],\n",
    "           [-1, 0, 1]]\n",
    "sobel_y = [[1, 2, 1],\n",
    "           [0, 0, 0],\n",
    "           [-1, -2, -1]]\n",
    "\n",
    "##### select filter type(start) #####\n",
    "conv_filter = sobel_x\n",
    "##### select filter type(end) #####\n",
    "\n",
    "filter_size = len(conv_filter)\n",
    "\n",
    "H, W = len(img), len(img[0])\n",
    "valid_H, valid_W = H - (filter_size - 1), W - (filter_size - 1)\n",
    "conv_mat = list()\n",
    "\n",
    "for h in range(valid_H):\n",
    "    conv_vec = list()\n",
    "    for w in range(valid_W):\n",
    "        window = list()\n",
    "        for inner_h in range(filter_size):\n",
    "            window.append(img[h+inner_h][w:w+filter_size])\n",
    "        \n",
    "        window_flatten, filter_flatten = list(), list()\n",
    "        for inner_h in range(filter_size):\n",
    "            for inner_w in range(filter_size):\n",
    "                window_flatten.append(window[inner_h][inner_w])\n",
    "                filter_flatten.append(conv_filter[inner_h][inner_w])\n",
    "        \n",
    "        filter_flatten = filter_flatten[::-1]\n",
    "        \n",
    "        conv = 0\n",
    "        for window_val, filter_val in zip(window_flatten, filter_flatten):\n",
    "            conv += window_val*filter_val\n",
    "            \n",
    "        if conv < 0:\n",
    "            conv *= -1\n",
    "        \n",
    "        conv_vec.append(conv)\n",
    "    conv_mat.append(conv_vec)\n",
    "    \n",
    "fig, axes = plt.subplots(1, 2, figsize=(20, 10))\n",
    "axes[0].imshow(img, 'gray')\n",
    "axes[1].imshow(conv_mat, 'gray')"
   ]
  },
  {
   "cell_type": "markdown",
   "metadata": {
    "pycharm": {
     "name": "#%% md\n"
    }
   },
   "source": [
    "# Exercise Group.21: Zero-padding"
   ]
  },
  {
   "cell_type": "markdown",
   "metadata": {
    "pycharm": {
     "name": "#%% md\n"
    }
   },
   "source": [
    "## Exercise.2 - 77: 1D Zero-padding\n",
    "<br>\n",
    "<font color='darkred', size=\"5\">\n",
    "    <center>\n",
    "        <b> 미리 구현해보기 5분 </b>\n",
    "    </center>\n",
    "</font>"
   ]
  },
  {
   "cell_type": "code",
   "execution_count": null,
   "metadata": {
    "pycharm": {
     "name": "#%%\n"
    }
   },
   "outputs": [],
   "source": [
    "import random\n",
    "\n",
    "# generate random data\n",
    "data = [random.randint(0, 10) for _ in range(10)]\n",
    "data_len = len(data)\n",
    "print(\"Input data: \", data)\n",
    "print(\"Length of data: \", len(data), '\\n')\n",
    "\n",
    "# zero-padding\n",
    "pad = 2\n",
    "# method.1\n",
    "padded_data = list()\n",
    "for _ in range(pad):\n",
    "    padded_data.append(0)\n",
    "padded_data += data\n",
    "for _ in range(pad):\n",
    "    padded_data.append(0)\n",
    "data = padded_data\n",
    "\n",
    "# method.2\n",
    "data = [0]*pad + data + [0]*pad\n",
    "\n",
    "print(\"Input data: \", data)\n",
    "print(\"Length of data: \", len(data), '\\n')"
   ]
  },
  {
   "cell_type": "markdown",
   "metadata": {
    "pycharm": {
     "name": "#%% md\n"
    }
   },
   "source": [
    "## Exercise.2 - 78: 1D Average Pooling with Zero-padding\n",
    "\n",
    "<br>\n",
    "<font size=\"5\">\n",
    "    $$ p[i] = \\frac{1}{2s+1}\\sum_{\\alpha=i-s}^{i+s} w[\\alpha] $$\n",
    "</font>\n",
    "\n",
    "<br>\n",
    "<font size=\"5\">\n",
    "    $$ L_{o} = L_{i} + 2p - L_{f} + 1 $$\n",
    "</font>\n",
    "\n",
    "<br>\n",
    "<font color='darkred', size=\"5\">\n",
    "    <center>\n",
    "        <b> 미리 구현해보기 10분 </b>\n",
    "    </center>\n",
    "</font>"
   ]
  },
  {
   "cell_type": "code",
   "execution_count": null,
   "metadata": {
    "pycharm": {
     "name": "#%%\n"
    }
   },
   "outputs": [],
   "source": [
    "import random\n",
    "\n",
    "pool_size = 3\n",
    "\n",
    "# generate random data\n",
    "data = [random.randint(0, 10) for _ in range(10)]\n",
    "data_len = len(data)\n",
    "print(\"Input data: \", data)\n",
    "print(\"Length of data: \", len(data), '\\n')\n",
    "\n",
    "# zero-padding\n",
    "pad = 1\n",
    "data = [0]*pad + data + [0]*pad\n",
    "data_len = len(data)\n",
    "\n",
    "print(\"Input data: \", data)\n",
    "print(\"Length of data: \", len(data), '\\n')\n",
    "\n",
    "valid_len = data_len - (pool_size - 1)\n",
    "\n",
    "# average pooling\n",
    "pooled = list()\n",
    "for pool_loc in range(valid_len):\n",
    "    window = data[pool_loc:pool_loc+pool_size]\n",
    "    \n",
    "    window_sum = 0\n",
    "    for window_val in window:\n",
    "        window_sum += window_val\n",
    "    pooled.append(window_sum/pool_size)\n",
    "    \n",
    "print(\"Pooled data: \", pooled)\n",
    "print(\"Length of pooled data: \", len(pooled))"
   ]
  },
  {
   "cell_type": "markdown",
   "metadata": {
    "pycharm": {
     "name": "#%% md\n"
    }
   },
   "source": [
    "## Exercise.2 - 79: 1D Correlation with Zero-padding\n",
    "<br>\n",
    "<font size=\"5\">\n",
    "    $$ \\vec{x} \\otimes \\vec{f} [i] = \\sum_{u=-k}^{k} x[i+u] f[v]$$\n",
    "</font>\n",
    "\n",
    "<br>\n",
    "<font size=\"5\">\n",
    "    $$ L_{o} = L_{i} + 2p - L_{f} + 1 $$\n",
    "</font>\n",
    "\n",
    "<br>\n",
    "<font color='darkred', size=\"5\">\n",
    "    <center>\n",
    "        <b> 미리 구현해보기 10분 </b>\n",
    "    </center>\n",
    "</font>"
   ]
  },
  {
   "cell_type": "code",
   "execution_count": null,
   "metadata": {
    "pycharm": {
     "name": "#%%\n"
    }
   },
   "outputs": [],
   "source": [
    "import random\n",
    "import matplotlib.pyplot as plt\n",
    "\n",
    "pad = 1\n",
    "corr_filter = [-1, 1, 1]\n",
    "\n",
    "# generate random data\n",
    "data = [random.randint(0, 10) for _ in range(10)]\n",
    "data_len = len(data)\n",
    "print(\"Input data: \", data)\n",
    "print(\"Length of data: \", len(data), '\\n')\n",
    "\n",
    "# zero-padding\n",
    "data = [0]*pad + data + [0]*pad\n",
    "data_len = len(data)\n",
    "\n",
    "print(\"Input data: \", data)\n",
    "print(\"Length of data: \", len(data), '\\n')\n",
    "\n",
    "filter_size = len(corr_filter)\n",
    "valid_len = data_len - (filter_size - 1)\n",
    "\n",
    "# calculate correlation\n",
    "corr_vec = list()\n",
    "for co_loc in range(valid_len):\n",
    "    window = data[co_loc:co_loc+filter_size]\n",
    "    \n",
    "    corr = 0\n",
    "    for win, co in zip(window, corr_filter):\n",
    "        corr += win*co\n",
    "    corr_vec.append(corr)\n",
    "    \n",
    "print(\"Correlation: \", corr_vec)\n",
    "print(\"Len of correlation: \", len(corr_vec))\n",
    "\n",
    "fig, ax = plt.subplots(figsize=(10, 5))\n",
    "corr_vec = [0] + corr_vec\n",
    "ax.plot(data, label='data')\n",
    "ax.plot(corr_vec, label='correlation value')\n",
    "ax.legend(fontsize=10)\n",
    "ax.grid()"
   ]
  },
  {
   "cell_type": "markdown",
   "metadata": {
    "pycharm": {
     "name": "#%% md\n"
    }
   },
   "source": [
    "# Exercise Group.22: 2D Zero-padding"
   ]
  },
  {
   "cell_type": "markdown",
   "metadata": {
    "pycharm": {
     "name": "#%% md\n"
    }
   },
   "source": [
    "## Exercise.2 - 80: 2D Zero-padding\n",
    "<br>\n",
    "<font color='darkred', size=\"5\">\n",
    "    <center>\n",
    "        <b> 미리 구현해보기 10분 </b>\n",
    "    </center>\n",
    "</font>"
   ]
  },
  {
   "cell_type": "code",
   "execution_count": null,
   "metadata": {
    "pycharm": {
     "name": "#%%\n"
    }
   },
   "outputs": [],
   "source": [
    "import random\n",
    "\n",
    "# set padding size\n",
    "pad = 2\n",
    "\n",
    "# generate a random image\n",
    "H, W = 4, 5\n",
    "data = list()\n",
    "for _ in range(H):\n",
    "    data.append([random.randint(0, 5) for _ in range(W)])\n",
    "    \n",
    "for row in data:\n",
    "    print(row)\n",
    "print(\"H x W of data: {} x {}\".format(H, W))\n",
    "print('=====')\n",
    "\n",
    "# zero-padding\n",
    "padded_data = list()\n",
    "for _ in range(pad):\n",
    "    padded_data.append([0]*(pad*2 + W))\n",
    "for data_row in data:\n",
    "    padded_row = [0]*pad + data_row + [0]*pad\n",
    "    padded_data.append(padded_row)\n",
    "for _ in range(pad):\n",
    "    padded_data.append([0]*(pad*2 + W))\n",
    "\n",
    "data = padded_data\n",
    "H, W = len(data), len(data[0])\n",
    "\n",
    "for row in data:\n",
    "    print(row)\n",
    "print(\"H x W of data: {} x {}\".format(H, W))\n",
    "print('=====')"
   ]
  },
  {
   "cell_type": "markdown",
   "metadata": {
    "pycharm": {
     "name": "#%% md\n"
    }
   },
   "source": [
    "## Exercise.2 - 81: 2D Max Pooling with Zero-padding\n",
    "<br>\n",
    "<font size=\"5\">\n",
    "    $$ p[i,j] = max(W_{i,j}) $$\n",
    "</font>\n",
    "\n",
    "<br>\n",
    "<font size=\"5\">\n",
    "    $$ L_{o} = L_{i} + 2p - L_{f} + 1 $$\n",
    "</font>\n",
    "\n",
    "<br>\n",
    "<font color='darkred', size=\"5\">\n",
    "    <center>\n",
    "        <b> 미리 구현해보기 10분 </b>\n",
    "    </center>\n",
    "</font>"
   ]
  },
  {
   "cell_type": "code",
   "execution_count": null,
   "metadata": {
    "pycharm": {
     "name": "#%%\n"
    }
   },
   "outputs": [],
   "source": [
    "import random\n",
    "\n",
    "# set exp. parameters\n",
    "H, W = 10, 15\n",
    "pad = 2\n",
    "pool_size = 5\n",
    "\n",
    "# generate a random image\n",
    "data = list()\n",
    "for _ in range(H):\n",
    "    data.append([random.randint(0, 5) for _ in range(W)])\n",
    "for row in data:\n",
    "    print(row)\n",
    "print(\"H x W of data: {} x {}\".format(H, W))    \n",
    "# zero-padding\n",
    "padded_data = list()\n",
    "for _ in range(pad):\n",
    "    padded_data.append([0]*(pad*2 + W))\n",
    "for data_row in data:\n",
    "    padded_row = [0]*pad + data_row + [0]*pad\n",
    "    padded_data.append(padded_row)\n",
    "for _ in range(pad):\n",
    "    padded_data.append([0]*(pad*2 + W))\n",
    "    \n",
    "data = padded_data\n",
    "H, W = len(data), len(data[0])\n",
    "\n",
    "valid_H, valid_W = H - (pool_size - 1), W - (pool_size - 1)\n",
    "\n",
    "pooled = list()\n",
    "for h in range(valid_H):\n",
    "    pooled_vec = list()\n",
    "    for w in range(valid_W):\n",
    "        window = list()\n",
    "        for inner_h in range(pool_size):\n",
    "            window.append(data[h+inner_h][w:w+pool_size])\n",
    "        \n",
    "        M = window[0][0]\n",
    "        for window_row in window:\n",
    "            for window_val in window_row:\n",
    "                if window_val > M:\n",
    "                    M = window_val\n",
    "        \n",
    "        pooled_vec.append(M)\n",
    "    pooled.append(pooled_vec)\n",
    "print('=====')\n",
    "\n",
    "for row in pooled:\n",
    "    print(row)\n",
    "    \n",
    "H, W = len(pooled), len(pooled[0])\n",
    "print(\"H x W of data: {} x {}\".format(H, W))"
   ]
  },
  {
   "cell_type": "markdown",
   "metadata": {
    "pycharm": {
     "name": "#%% md\n"
    }
   },
   "source": [
    "## Exercise.2 - 82: 2D Correlation with Zero-padding\n",
    "<br>\n",
    "<font size=\"5\">\n",
    "    $$ \\vec{x} \\otimes \\vec{f} [i,j] =\n",
    "    \\sum_{u=-k}^{k} \\sum_{v=-k}^{k}\n",
    "    x[i+u, j+v] f[u, v]$$\n",
    "</font>\n",
    "\n",
    "\n",
    "<br>\n",
    "<font size=\"5\">\n",
    "    $$ L_{o} = L_{i} + 2p - L_{f} + 1 $$\n",
    "</font>\n",
    "\n",
    "<br>\n",
    "<font color='darkred', size=\"5\">\n",
    "    <center>\n",
    "        <b> 미리 구현해보기 15분 </b>\n",
    "    </center>\n",
    "</font>"
   ]
  },
  {
   "cell_type": "code",
   "execution_count": null,
   "metadata": {
    "pycharm": {
     "name": "#%%\n"
    }
   },
   "outputs": [],
   "source": [
    "import random\n",
    "\n",
    "# set exp. parameters\n",
    "H, W = 4, 5\n",
    "pad = 2\n",
    "filter_size = 5\n",
    "\n",
    "# generate a random image\n",
    "data = list()\n",
    "for _ in range(H):\n",
    "    data_row = list()\n",
    "    for _ in range(W):\n",
    "        data_row.append(random.randint(0, 5))\n",
    "    data.append(data_row)\n",
    "for row in data:\n",
    "    print(row)\n",
    "print(\"H x W of data: {} x {}\".format(H, W))\n",
    "print('=====')\n",
    "\n",
    "# zero-padding\n",
    "padded_data = list()\n",
    "for _ in range(pad):\n",
    "    padded_data.append([0]*(pad*2 + W))\n",
    "for data_row in data:\n",
    "    padded_row = [0]*pad + data_row + [0]*pad\n",
    "    padded_data.append(padded_row)\n",
    "for _ in range(pad):\n",
    "    padded_data.append([0]*(pad*2 + W))\n",
    "\n",
    "data = padded_data\n",
    "H, W = len(data), len(data[0])\n",
    "\n",
    "for row in data:\n",
    "    print(row)\n",
    "print(\"H x W of data: {} x {}\".format(H, W))\n",
    "print('=====')\n",
    "\n",
    "# initialize correlation\n",
    "corr_filter = list()\n",
    "for _ in range(filter_size):\n",
    "    corr_filter_row = list()\n",
    "    for _ in range(filter_size):\n",
    "        corr_filter_row.append(random.randint(0, 10))\n",
    "    corr_filter.append(corr_filter_row)\n",
    "    \n",
    "valid_H, valid_W = H - (filter_size - 1), W - (filter_size - 1)\n",
    "corr_mat = list()\n",
    "\n",
    "for h in range(valid_H):\n",
    "    corr_vec = list()\n",
    "    for w in range(valid_W):\n",
    "        window = list()\n",
    "        for inner_h in range(filter_size):\n",
    "            window.append(data[h+inner_h][w:w+filter_size])\n",
    "        \n",
    "        corr = 0\n",
    "        for window_row, filter_row in zip(window, corr_filter):\n",
    "            for window_val, filter_val in zip(window_row, filter_row):\n",
    "                corr += window_val*filter_val\n",
    "        corr_vec.append(corr)\n",
    "    corr_mat.append(corr_vec)\n",
    "\n",
    "H, W = len(corr_mat), len(corr_mat[0])\n",
    "for row in corr_mat:\n",
    "    print(row)\n",
    "print(\"H x W of data: {} x {}\".format(H, W))\n",
    "print('=====')"
   ]
  },
  {
   "cell_type": "markdown",
   "metadata": {
    "pycharm": {
     "name": "#%% md\n"
    }
   },
   "source": [
    "# Exercise Group.23: 1D Strides"
   ]
  },
  {
   "cell_type": "markdown",
   "metadata": {
    "pycharm": {
     "name": "#%% md\n"
    }
   },
   "source": [
    "## Exercise.2 - 83: range + step\n",
    "for loop에 range를 사용하는 방법을 추가적으로 배워봅니다."
   ]
  },
  {
   "cell_type": "code",
   "execution_count": null,
   "metadata": {
    "pycharm": {
     "name": "#%%\n"
    }
   },
   "outputs": [],
   "source": [
    "for idx in range(10):\n",
    "    print(idx)\n",
    "print('=====')\n",
    "\n",
    "for idx in range(3, 10):\n",
    "    print(idx)\n",
    "print('=====')\n",
    "\n",
    "for idx in range(0, 10, 2):\n",
    "    print(idx)"
   ]
  },
  {
   "cell_type": "markdown",
   "metadata": {
    "pycharm": {
     "name": "#%% md\n"
    }
   },
   "source": [
    "## Exercise.2 - 84: 1D Strides\n",
    "<br>\n",
    "<font color='darkred', size=\"5\">\n",
    "    <center>\n",
    "        <b> 미리 구현해보기 10분 </b>\n",
    "    </center>\n",
    "</font>"
   ]
  },
  {
   "cell_type": "code",
   "execution_count": null,
   "metadata": {
    "pycharm": {
     "name": "#%%\n"
    }
   },
   "outputs": [],
   "source": [
    "import random\n",
    "data = [10*i for i in range(10)]\n",
    "data_len = len(data)\n",
    "\n",
    "strides = 2\n",
    "pool_size = 2\n",
    "print(\"Input data: \", data)\n",
    "print(\"Length of data: \", len(data), '\\n')\n",
    "\n",
    "valid_length = data_len - (pool_size - 1)\n",
    "\n",
    "for idx in range(0, valid_length, strides):\n",
    "    print(idx, data[idx : idx + pool_size])"
   ]
  },
  {
   "cell_type": "markdown",
   "metadata": {
    "pycharm": {
     "name": "#%% md\n"
    }
   },
   "source": [
    "## Exercise.2 - 85: 1D Max Pooling with Strides\n",
    "<br>\n",
    "<font size=\"5\">\n",
    "    $$ p[i] = max(W_{i}) $$\n",
    "</font>\n",
    "\n",
    "<br>\n",
    "<font size=\"5\">\n",
    "    $$ L_{o} = \\frac{L_{i} - L_{f}}{s} + 1 $$\n",
    "</font>\n",
    "\n",
    "<br>\n",
    "<font color='darkred', size=\"5\">\n",
    "    <center>\n",
    "        <b> 미리 구현해보기 10분 </b>\n",
    "    </center>\n",
    "</font>"
   ]
  },
  {
   "cell_type": "code",
   "execution_count": null,
   "metadata": {
    "pycharm": {
     "name": "#%%\n"
    }
   },
   "outputs": [],
   "source": [
    "import random\n",
    "\n",
    "# set exp. parameters\n",
    "strides = 3\n",
    "pool_size = 2\n",
    "\n",
    "# generate a random image\n",
    "data = [random.randint(0, 10) for _ in range(10)]\n",
    "data_len = len(data)\n",
    "print(\"Input data: \", data)\n",
    "print(\"Length of data: \", len(data), '\\n')\n",
    "\n",
    "valid_len = data_len - (pool_size - 1)\n",
    "\n",
    "pooled = list()\n",
    "# max pooling with strides\n",
    "for pool_loc in range(0, valid_len, strides):\n",
    "    window = data[pool_loc:pool_loc+pool_size]\n",
    "    \n",
    "    # calculate the maximum value in the window\n",
    "    M = window[0]\n",
    "    for window_val in window:\n",
    "        if window_val > M:\n",
    "            M = window_val\n",
    "    pooled.append(M)\n",
    "\n",
    "print(\"Pooled data: \", pooled)\n",
    "print(\"Length of pooled data: \", len(pooled))"
   ]
  },
  {
   "cell_type": "markdown",
   "metadata": {
    "pycharm": {
     "name": "#%% md\n"
    }
   },
   "source": [
    "## Exercise.2 - 86: 1D Correlation with Strides\n",
    "<br>\n",
    "<font size=\"5\">\n",
    "    $$ \\vec{x} \\otimes \\vec{f} [i] = \\sum_{u=-k}^{k} x[i+u] f[v]$$\n",
    "</font>\n",
    "\n",
    "\n",
    "<br>\n",
    "<font size=\"5\">\n",
    "    $$ L_{o} = \\frac{L_{i} - L_{f}}{s} + 1 $$\n",
    "</font>\n",
    "\n",
    "<br>\n",
    "<font color='darkred', size=\"5\">\n",
    "    <center>\n",
    "        <b> 미리 구현해보기 10분 </b>\n",
    "    </center>\n",
    "</font>"
   ]
  },
  {
   "cell_type": "code",
   "execution_count": null,
   "metadata": {
    "pycharm": {
     "name": "#%%\n"
    }
   },
   "outputs": [],
   "source": [
    "import random\n",
    "\n",
    "# set exp. parameters\n",
    "strides = 3\n",
    "corr_filter = [-1, 1, 1]\n",
    "\n",
    "# generate a random image\n",
    "data = [random.randint(-1, 1) for _ in range(10)]\n",
    "data_len = len(data)\n",
    "print(\"Input data: \", data)\n",
    "print(\"Length of data: \", len(data))\n",
    "\n",
    "print(\"Correlation filter: \", corr_filter, '\\n')\n",
    "\n",
    "filter_size = len(corr_filter)\n",
    "valid_len = data_len - (filter_size - 1)\n",
    "corr_vec = list()\n",
    "# calculate correlation with strides\n",
    "for co_loc in range(0, valid_len, strides):\n",
    "    window = data[co_loc:co_loc+filter_size]\n",
    "    \n",
    "    # calculate correlation\n",
    "    corr = 0\n",
    "    for win, co in zip(window, corr_filter):\n",
    "        corr += win*co\n",
    "    corr_vec.append(corr)\n",
    "    \n",
    "print(\"Correlation: \", corr_vec)\n",
    "print(\"Length after correlation: \", len(corr_vec))"
   ]
  },
  {
   "cell_type": "markdown",
   "metadata": {
    "pycharm": {
     "name": "#%% md\n"
    }
   },
   "source": [
    "# Exercise Group.24: 2D Strides"
   ]
  },
  {
   "cell_type": "markdown",
   "metadata": {
    "pycharm": {
     "name": "#%% md\n"
    }
   },
   "source": [
    "## Exercise.2 - 87: 2D Strides\n",
    "<br>\n",
    "<font color='darkred', size=\"5\">\n",
    "    <center>\n",
    "        <b> 미리 구현해보기 10분 </b>\n",
    "    </center>\n",
    "</font>"
   ]
  },
  {
   "cell_type": "code",
   "execution_count": null,
   "metadata": {
    "pycharm": {
     "name": "#%%\n"
    }
   },
   "outputs": [],
   "source": [
    "import random\n",
    "\n",
    "# set exp. parameters\n",
    "H, W = 5, 6\n",
    "strides = 2\n",
    "filter_size = 3\n",
    "\n",
    "# generate a random image\n",
    "data = list()\n",
    "for _ in range(H):\n",
    "    data.append([random.randint(0, 5) for _ in range(W)])\n",
    "    \n",
    "for row in data:\n",
    "    print(row)\n",
    "print(\"H x W of data: {} x {}\".format(H, W))\n",
    "print('=====')\n",
    "\n",
    "valid_H, valid_W = H - (filter_size - 1), W - (filter_size - 1)\n",
    "\n",
    "# access window with strides\n",
    "for h in range(0, valid_H, strides):\n",
    "    for w in range(0, valid_W, strides):\n",
    "        window = list()\n",
    "        for inner_h in range(filter_size):\n",
    "            window.append(data[h+inner_h][w:w+filter_size])\n",
    "        print(window)"
   ]
  },
  {
   "cell_type": "markdown",
   "metadata": {
    "pycharm": {
     "name": "#%% md\n"
    }
   },
   "source": [
    "## Exercise.2 - 88: 2D Max Pooling with Strides\n",
    "<br>\n",
    "<font size=\"5\">\n",
    "    $$ p[i,j] = max(W_{i,j}) $$\n",
    "</font>\n",
    "\n",
    "<br>\n",
    "<font size=\"5\">\n",
    "    $$ L_{o} = \\frac{L_{i} - L_{f}}{s} + 1 $$\n",
    "</font>\n",
    "\n",
    "<br>\n",
    "<font color='darkred', size=\"5\">\n",
    "    <center>\n",
    "        <b> 미리 구현해보기 15분 </b>\n",
    "    </center>\n",
    "</font>"
   ]
  },
  {
   "cell_type": "code",
   "execution_count": null,
   "metadata": {
    "pycharm": {
     "name": "#%%\n"
    }
   },
   "outputs": [],
   "source": [
    "import random\n",
    "\n",
    "# set exp. parameters\n",
    "H, W = 5, 6\n",
    "pool_size = 3\n",
    "strides = 2\n",
    "\n",
    "# generate a random image\n",
    "data = list()\n",
    "for _ in range(H):\n",
    "    data.append([random.randint(0, 5) for _ in range(W)])\n",
    "\n",
    "for row in data:\n",
    "    print(row)\n",
    "print('=====')\n",
    "print(\"H x W of data: {} x {}\".format(H, W))\n",
    "\n",
    "# max pooling with strides\n",
    "valid_H, valid_W = H - (pool_size - 1), W - (pool_size - 1)\n",
    "pooled = list()\n",
    "for h in range(0, valid_H, strides):\n",
    "    pooled_vec = list()\n",
    "    for w in range(0, valid_W, strides):\n",
    "        window = list()\n",
    "        for inner_h in range(pool_size):\n",
    "            window.append(data[h+inner_h][w:w+pool_size])\n",
    "\n",
    "        M = window[0][0]\n",
    "        for window_row in window:\n",
    "            for window_val in window_row:\n",
    "                if window_val > M:\n",
    "                    M = window_val\n",
    "        \n",
    "        pooled_vec.append(M)\n",
    "        \n",
    "        for tmp in window:\n",
    "            print(tmp)\n",
    "        print(M, '\\n')\n",
    "    pooled.append(pooled_vec)\n",
    "print('=====')\n",
    "\n",
    "for row in pooled:\n",
    "    print(row)"
   ]
  },
  {
   "cell_type": "markdown",
   "metadata": {
    "pycharm": {
     "name": "#%% md\n"
    }
   },
   "source": [
    "## Exercise.2 - 89: 2D Correlation with Strides\n",
    "<br>\n",
    "<font size=\"5\">\n",
    "    $$ \\vec{x} \\otimes \\vec{f} [i,j] =\n",
    "    \\sum_{u=-k}^{k} \\sum_{v=-k}^{k}\n",
    "    x[i+u, j+v] f[u, v]$$\n",
    "</font>\n",
    "\n",
    "<br>\n",
    "<font size=\"5\">\n",
    "    $$ L_{o} = \\frac{L_{i} - L_{f}}{s} + 1 $$\n",
    "</font>\n",
    "\n",
    "\n",
    "<br>\n",
    "<font color='darkred', size=\"5\">\n",
    "    <center>\n",
    "        <b> 미리 구현해보기 15분 </b>\n",
    "    </center>\n",
    "</font>"
   ]
  },
  {
   "cell_type": "code",
   "execution_count": null,
   "metadata": {
    "pycharm": {
     "name": "#%%\n"
    }
   },
   "outputs": [],
   "source": [
    "import random\n",
    "\n",
    "# set exp. parameters\n",
    "H, W = 5, 6\n",
    "strides = 2\n",
    "filter_size = 3\n",
    "\n",
    "# generate a random image\n",
    "data = list()\n",
    "for _ in range(H):\n",
    "    data.append([random.randint(0, 5) for _ in range(W)])\n",
    "    \n",
    "for row in data:\n",
    "    print(row)\n",
    "print(\"H x W of data: {} x {}\".format(H, W))\n",
    "print('=====')\n",
    "\n",
    "# generate a random filter\n",
    "corr_filter = list()\n",
    "for _ in range(filter_size):\n",
    "    corr_filter_row = list()\n",
    "    for _ in range(filter_size):\n",
    "        corr_filter_row.append(random.randint(0, 10))\n",
    "    corr_filter.append(corr_filter_row)\n",
    "    \n",
    "valid_H, valid_W = H - (filter_size - 1), W - (filter_size - 1)\n",
    "corr_mat = list()\n",
    "# correlation with strides\n",
    "for h in range(0, valid_H, strides):\n",
    "    corr_vec = list()\n",
    "    for w in range(0, valid_W, strides):\n",
    "        window = list()\n",
    "        for inner_h in range(filter_size):\n",
    "            window.append(data[h+inner_h][w:w+filter_size])\n",
    "        \n",
    "        corr = 0\n",
    "        for window_row, filter_row in zip(window, corr_filter):\n",
    "            for window_val, filter_val in zip(window_row, filter_row):\n",
    "                corr += window_val*filter_val\n",
    "        corr_vec.append(corr)\n",
    "    corr_mat.append(corr_vec)\n",
    "    \n",
    "for tmp in corr_mat:\n",
    "    print(tmp)"
   ]
  },
  {
   "cell_type": "markdown",
   "metadata": {
    "pycharm": {
     "name": "#%% md\n"
    }
   },
   "source": [
    "# Exercise Group.25: (Mini-project) Convolutional Layer"
   ]
  },
  {
   "cell_type": "markdown",
   "metadata": {
    "pycharm": {
     "name": "#%% md\n"
    }
   },
   "source": [
    "## Exercise.2 - 90: Corr + Activation + Pooling\n",
    "<br>\n",
    "<font color='darkred', size=\"5\">\n",
    "    <center>\n",
    "        <b> 미리 구현해보기 30분 </b>\n",
    "    </center>\n",
    "</font>"
   ]
  },
  {
   "cell_type": "code",
   "execution_count": null,
   "metadata": {
    "pycharm": {
     "name": "#%%\n"
    }
   },
   "outputs": [],
   "source": [
    "import matplotlib.pyplot as plt\n",
    "import math\n",
    "\n",
    "# set exp. parameters\n",
    "pad = 1\n",
    "strides = 2\n",
    "pool_size = 2\n",
    "\n",
    "sobel_x = [[-1, 0, 1],\n",
    "           [-2, 0, 2],\n",
    "           [-1, 0, 1]]\n",
    "corr_filter = sobel_x\n",
    "\n",
    "# set 2x2 axes\n",
    "fig, axes = plt.subplots(2, 2, figsize=(20, 20))\n",
    "\n",
    "# function to transform the image\n",
    "def rgb2gray(rgb):\n",
    "    r, g, b = rgb[:,:,0], rgb[:,:,1], rgb[:,:,2]\n",
    "    gray = 0.2989 * r + 0.5870 * g + 0.1140 * b\n",
    "    return gray\n",
    "\n",
    "# read the test image\n",
    "img = plt.imread('./lena.jpg')\n",
    "img = rgb2gray(img)\n",
    "img = img.tolist()\n",
    "# draw the original image at 0x0\n",
    "axes[0, 0].imshow(img, 'gray')\n",
    "axes[0, 0].set_title(\"Original Image\", fontsize=30)\n",
    "\n",
    "H, W = len(img), len(img[0])\n",
    "print(\"shape of original image: {}/{} \".format(H, W))\n",
    "\n",
    "# normalize the image\n",
    "for row_idx in range(H):\n",
    "    for col_idx in range(W):\n",
    "        img[row_idx][col_idx] /= 255.\n",
    "        \n",
    "# zero-padding\n",
    "padded_data = list()\n",
    "for _ in range(pad):\n",
    "    padded_data.append([0 for _ in range(pad*2 + W)])\n",
    "for img_row in img:\n",
    "    padded_row = [0]*pad + img_row + [0]*pad\n",
    "    padded_data.append(padded_row)\n",
    "for _ in range(pad):\n",
    "    padded_data.append([0 for _ in range(pad*2 + W)])\n",
    "data = padded_data\n",
    "\n",
    "H, W = len(data), len(data[0])\n",
    "print(\"shape after padding: {}/{} \".format(H, W))\n",
    "\n",
    "# 2D correlation\n",
    "filter_size = len(corr_filter)\n",
    "valid_H, valid_W = H - (filter_size - 1), W - (filter_size - 1)\n",
    "corr_mat = list()\n",
    "for h in range(valid_H):\n",
    "    corr_vec = list()\n",
    "    for w in range(valid_W):\n",
    "        window = list()\n",
    "        for inner_h in range(filter_size):\n",
    "            window.append(data[h+inner_h][w:w+filter_size])\n",
    "        \n",
    "        corr = 0\n",
    "        for window_row, filter_row in zip(window, corr_filter):\n",
    "            for window_val, filter_val in zip(window_row, filter_row):\n",
    "                corr += window_val*filter_val\n",
    "        corr_vec.append(corr)\n",
    "    corr_mat.append(corr_vec)\n",
    "img = corr_mat\n",
    "# draw the image after correlation  at 0x1\n",
    "axes[0, 1].imshow(img, 'gray')\n",
    "axes[0, 1].set_title(\"After Correlation\", fontsize=30)\n",
    "\n",
    "H, W = len(img), len(img[0])\n",
    "print(\"shape after convolution: {}/{} \".format(H, W))\n",
    "\n",
    "# activation value of the image\n",
    "data_act = list()\n",
    "for data_row in img:\n",
    "    data_act_vec = list()\n",
    "    for data_element in data_row:\n",
    "        data_act_vec.append(1/(1 + math.exp(-data_element)))\n",
    "    data_act.append(data_act_vec)\n",
    "img = data_act\n",
    "# draw the image after activation function at 1x0\n",
    "axes[1, 0].imshow(img, 'gray')\n",
    "axes[1, 0].set_title(\"After Sigmoid\", fontsize=30)\n",
    "\n",
    "# max pooling to the image\n",
    "valid_H, valid_W = H - (pool_size - 1), W - (pool_size - 1)\n",
    "pooled = list()\n",
    "for h in range(0, valid_H, strides):\n",
    "    pooled_vec = list()\n",
    "    for w in range(0, valid_W, strides):\n",
    "        window = list()\n",
    "        for inner_h in range(pool_size):\n",
    "            window.append(data[h+inner_h][w:w+pool_size])\n",
    "\n",
    "        M = window[0][0]\n",
    "        for window_row in window:\n",
    "            for window_val in window_row:\n",
    "                if window_val > M:\n",
    "                    M = window_val\n",
    "        \n",
    "        pooled_vec.append(M)\n",
    "        \n",
    "    pooled.append(pooled_vec)\n",
    "img = pooled\n",
    "\n",
    "H, W = len(img), len(img[0])\n",
    "print(\"shape after pooling: {}/{} \".format(H, W))\n",
    "# draw the image after max pooling\n",
    "axes[1, 1].imshow(img, 'gray')\n",
    "axes[1, 1].set_title(\"After Max Pooling\", fontsize=30)\n",
    "fig.tight_layout()"
   ]
  },
  {
   "cell_type": "markdown",
   "metadata": {
    "pycharm": {
     "name": "#%% md\n"
    }
   },
   "source": [
    "# Exercise Group.26: (Mini-project) K-Nearest Neighbor Classification"
   ]
  },
  {
   "cell_type": "markdown",
   "metadata": {
    "pycharm": {
     "name": "#%% md\n"
    }
   },
   "source": [
    "## Exercise.2 - 91: Data Generation\n",
    "<br>\n",
    "<font color='darkred', size=\"5\">\n",
    "    <center>\n",
    "        <b> 미리 구현해보기 15분 </b>\n",
    "    </center>\n",
    "</font>"
   ]
  },
  {
   "cell_type": "code",
   "execution_count": null,
   "metadata": {
    "pycharm": {
     "name": "#%%\n"
    }
   },
   "outputs": [],
   "source": [
    "import random\n",
    "import matplotlib.pyplot as plt\n",
    "random.seed(14)\n",
    "\n",
    "# set toy dataset's parameters\n",
    "n_class, n_data = 5, 100\n",
    "\n",
    "# generate a dataset for classification\n",
    "# x_data: (x1, x2) from -10 to 10\n",
    "# y_data: integer values for class label\n",
    "\n",
    "# generate center coordinates\n",
    "centers = list()\n",
    "for _ in range(n_class):\n",
    "    center = list()\n",
    "    for _ in range(2):\n",
    "        center.append(random.uniform(-10, 10))\n",
    "    centers.append(center)\n",
    "\n",
    "# generate (x1, x2) and class label\n",
    "x_data, y_data = list(), list()\n",
    "for class_idx in range(n_class):\n",
    "    # take the class' center\n",
    "    center = centers[class_idx]\n",
    "    \n",
    "    class_x_data, class_y_data = list(), list()\n",
    "    for _ in range(n_data):\n",
    "        # random dispersion from the center\n",
    "        x1 = center[0] + random.gauss(0, 1)\n",
    "        x2 = center[1] + random.gauss(0, 1)\n",
    "        class_x_data.append([x1, x2])\n",
    "        \n",
    "        # class label => class_idx\n",
    "        class_y_data.append(class_idx)\n",
    "        \n",
    "    x_data += class_x_data\n",
    "    y_data += class_y_data\n",
    "    \n",
    "# data to be classified  \n",
    "cls_x_data = [random.uniform(-10, 10) for _ in range(2)]\n",
    "\n",
    "template = \\\n",
    "    '# of the samples in the dataset: {}\\n' + \\\n",
    "    '# of the features of x vectors: {}\\n\\n'\n",
    "print(template.format(len(x_data), len(x_data[0])))"
   ]
  },
  {
   "cell_type": "markdown",
   "metadata": {
    "pycharm": {
     "name": "#%% md\n"
    }
   },
   "source": [
    "## Exercise.2 - 92: Data Visualization"
   ]
  },
  {
   "cell_type": "code",
   "execution_count": null,
   "metadata": {
    "pycharm": {
     "name": "#%%\n"
    }
   },
   "outputs": [],
   "source": [
    "fig, ax = plt.subplots(figsize=(10, 10))\n",
    "\n",
    "for class_idx in range(n_class):\n",
    "    # [NOTE] how to extract the class data using list slicing\n",
    "    class_x_data = x_data[class_idx*n_data:(class_idx+1)*n_data]\n",
    "    \n",
    "    # [NOTE] how to extract x1, x2 lists using list comprehension\n",
    "    class_x1_data = [class_x_data[i][0] for i in range(n_data)]\n",
    "    class_x2_data = [class_x_data[i][1] for i in range(n_data)]\n",
    "    \n",
    "    ax.scatter(class_x1_data, class_x2_data, label='Class ' + str(class_idx))\n",
    "\n",
    "ax.legend()\n",
    "# draw the sample to be classified\n",
    "ax.scatter(cls_x_data[0], cls_x_data[1],\n",
    "           s=800, color='r', edgecolor='orange', linewidth=5)"
   ]
  },
  {
   "cell_type": "markdown",
   "metadata": {
    "pycharm": {
     "name": "#%% md\n"
    }
   },
   "source": [
    "## Exercise.2 - 93: Calculation of Distances\n",
    "<br>\n",
    "<font color='darkred', size=\"5\">\n",
    "    <center>\n",
    "        <b> 미리 구현해보기 15분 </b>\n",
    "    </center>\n",
    "</font>"
   ]
  },
  {
   "cell_type": "code",
   "execution_count": null,
   "metadata": {
    "pycharm": {
     "name": "#%%\n"
    }
   },
   "outputs": [],
   "source": [
    "distances = list()\n",
    "\n",
    "# access X vector and y label\n",
    "for X, y in zip(x_data, y_data):\n",
    "    e_distance = 0\n",
    "    \n",
    "    # calculate the Euclidean distance between\n",
    "    # X in the dataset and the target data\n",
    "    e_distance += (X[0] - cls_x_data[0])**2 + (X[1] - cls_x_data[1])**2\n",
    "    e_distance **= 0.5\n",
    "\n",
    "print(\"# of distances calculated: \", len(distances))"
   ]
  },
  {
   "cell_type": "markdown",
   "metadata": {
    "pycharm": {
     "name": "#%% md\n"
    }
   },
   "source": [
    "## Exercise.2 - 94: Distance Sorting\n",
    "<br>\n",
    "<font color='darkred', size=\"5\">\n",
    "    <center>\n",
    "        <b> 미리 구현해보기 15분 </b>\n",
    "    </center>\n",
    "</font>"
   ]
  },
  {
   "cell_type": "code",
   "execution_count": null,
   "metadata": {
    "pycharm": {
     "name": "#%%\n"
    }
   },
   "outputs": [],
   "source": [
    "# set K value\n",
    "K = 5\n",
    "\n",
    "sorted_distances = list()\n",
    "sorted_distance_indices = list()\n",
    "for _ in range(K):\n",
    "    m, m_idx = None, 0\n",
    "    \n",
    "    # get m, m_idx of the distances\n",
    "    for dist_idx, dist in enumerate(distances):\n",
    "        \n",
    "        # check Exercise.2 - 24\n",
    "        if dist_idx in sorted_distance_indices:\n",
    "            pass\n",
    "        elif m == None or dist < m:\n",
    "            m = dist\n",
    "            m_idx = dist_idx\n",
    "    \n",
    "    sorted_distances.append(m)\n",
    "    sorted_distance_indices.append(m_idx)\n",
    "    \n",
    "print(\"Minimum distances: \", sorted_distances)\n",
    "print(\"Minimum distance indices: \", sorted_distance_indices)\n",
    "\n",
    "# draw the dataset samples\n",
    "fig, ax = plt.subplots(figsize=(10, 10))\n",
    "for class_idx in range(n_class):\n",
    "    class_x_data = x_data[class_idx*n_data:(class_idx+1)*n_data]\n",
    "    class_x1_data = [class_x_data[i][0] for i in range(n_data)]\n",
    "    class_x2_data = [class_x_data[i][1] for i in range(n_data)]\n",
    "    ax.scatter(class_x1_data, class_x2_data, label='Class ' + str(class_idx))\n",
    "ax.legend()\n",
    "\n",
    "# draw the point to be classified\n",
    "ax.scatter(cls_x_data[0], cls_x_data[1],\n",
    "           s=800, color='r', edgecolor='orange', linewidth=5)\n",
    "\n",
    "# draw the K points close to the target point\n",
    "for close_idx in sorted_distance_indices:    \n",
    "    close_x_data = x_data[close_idx]\n",
    "    ax.scatter(close_x_data[0], close_x_data[1],\n",
    "              s=400, color='b', edgecolor='skyblue', linewidth=5)"
   ]
  },
  {
   "cell_type": "markdown",
   "metadata": {
    "pycharm": {
     "name": "#%% md\n"
    }
   },
   "source": [
    "## Exercise.2 - 95: Classification\n",
    "<br>\n",
    "<font color='darkred', size=\"5\">\n",
    "    <center>\n",
    "        <b> 미리 구현해보기 15분 </b>\n",
    "    </center>\n",
    "</font>"
   ]
  },
  {
   "cell_type": "code",
   "execution_count": null,
   "metadata": {
    "pycharm": {
     "name": "#%%\n"
    }
   },
   "outputs": [],
   "source": [
    "# initialize a list for counting up the frequencies\n",
    "class_cnt = [0]*n_class\n",
    "\n",
    "# calculate the frequencies\n",
    "for close_idx in sorted_distance_indices:\n",
    "    print(close_idx, y_data[close_idx])\n",
    "    # transform from the data idx to class label\n",
    "    class_cnt[y_data[close_idx]] += 1\n",
    "\n",
    "print(\"frequencies of K close class data: \", class_cnt)\n",
    "\n",
    "# calculate the most frequently close to the target data\n",
    "M, M_idx = class_cnt[0], 0\n",
    "for class_idx, class_freq in enumerate(class_cnt):\n",
    "    if class_freq > M:\n",
    "        M = class_freq\n",
    "        M_idx = class_idx\n",
    "\n",
    "print(\"Classified as \", M_idx)"
   ]
  },
  {
   "cell_type": "markdown",
   "metadata": {
    "pycharm": {
     "name": "#%% md\n"
    }
   },
   "source": [
    "# Exercise Group.27: (Mini-project) K-means Clustering"
   ]
  },
  {
   "cell_type": "markdown",
   "metadata": {
    "pycharm": {
     "name": "#%% md\n"
    }
   },
   "source": [
    "## Exercise.2 - 96: Data Generation\n",
    "<br>\n",
    "<font color='darkred', size=\"5\">\n",
    "    <center>\n",
    "        <b> 미리 구현해보기 10분 </b>\n",
    "    </center>\n",
    "</font>"
   ]
  },
  {
   "cell_type": "code",
   "execution_count": null,
   "metadata": {
    "pycharm": {
     "name": "#%%\n"
    }
   },
   "outputs": [],
   "source": [
    "import random\n",
    "import matplotlib.pyplot as plt\n",
    "random.seed(1)\n",
    "\n",
    "# set toy dataset's parameters\n",
    "# [NOTE] After we make this dataset,\n",
    "#        we are going to pretend we don't know\n",
    "#        how much clusters in the dataset\n",
    "# [NOTE] There is no class label(y_data) \n",
    "#        in the dataset for clustering\n",
    "n_class, n_data = 5, 100\n",
    "\n",
    "# generate center coordinates\n",
    "centers = list()\n",
    "for _ in range(n_class):\n",
    "    center = list()\n",
    "    for _ in range(2):\n",
    "        center.append(random.uniform(-10, 10))\n",
    "    centers.append(center)\n",
    "\n",
    "# generate (x1, x2) and class label\n",
    "x_data = list()\n",
    "for class_idx in range(n_class):\n",
    "    # take the class' center\n",
    "    center = centers[class_idx]\n",
    "    \n",
    "    class_x_data = list()\n",
    "    for _ in range(n_data):\n",
    "        # random dispersion from the center\n",
    "        x1 = center[0] + random.gauss(0, 1)\n",
    "        x2 = center[1] + random.gauss(0, 1)\n",
    "        class_x_data.append([x1, x2])\n",
    "        \n",
    "    x_data += class_x_data\n",
    "\n",
    "# visualize the dataset\n",
    "# [NOTE AGAIN] We don't know the classes' labels\n",
    "fig, ax = plt.subplots(figsize=(10, 10))\n",
    "x1_data = [x_data[i][0] for i in range(n_data*n_class)]\n",
    "x2_data = [x_data[i][1] for i in range(n_data*n_class)]\n",
    "\n",
    "ax.scatter(x1_data, x2_data)"
   ]
  },
  {
   "cell_type": "markdown",
   "metadata": {
    "pycharm": {
     "name": "#%% md\n"
    }
   },
   "source": [
    "## Exercise.2 - 97: Random Choice of Centroids\n",
    "<br>\n",
    "<font color='darkred', size=\"5\">\n",
    "    <center>\n",
    "        <b> 미리 구현해보기 15분 </b>\n",
    "    </center>\n",
    "</font>"
   ]
  },
  {
   "cell_type": "code",
   "execution_count": null,
   "metadata": {
    "pycharm": {
     "name": "#%%\n"
    }
   },
   "outputs": [],
   "source": [
    "random.seed(1)\n",
    "\n",
    "# set K values for K-means clustering\n",
    "K = 5\n",
    "\n",
    "random_indices = list()\n",
    "centroids = list()\n",
    "\n",
    "# select random samples and assume these points as centroids\n",
    "for _ in range(10000): # iterate 10000 times for statistical safety\n",
    "    random_idx  = random.randint(0, n_data*n_class-1)\n",
    "    \n",
    "    # take random_idx that we haven't picked yet\n",
    "    if random_idx not in random_indices:\n",
    "        random_indices.append(random_idx)\n",
    "        centroids.append(x_data[random_idx])\n",
    "        \n",
    "    # if we've picked K centroid indices\n",
    "    if len(random_indices) == K:\n",
    "        print(random_indices)\n",
    "        break\n",
    "if len(random_indices) != K:\n",
    "    print(\"[ERROR] NOT enought initial centroids\")\n",
    "    \n",
    "# visualize the dataset and intial centroids\n",
    "fig, ax = plt.subplots(figsize=(10, 10))\n",
    "for class_idx in range(n_class):\n",
    "    class_x_data = x_data[class_idx*n_data:(class_idx+1)*n_data]\n",
    "    class_x1_data = [class_x_data[i][0] for i in range(n_data)]\n",
    "    class_x2_data = [class_x_data[i][1] for i in range(n_data)]\n",
    "    ax.scatter(class_x1_data, class_x2_data, color='tab:blue')\n",
    "\n",
    "for centroid in centroids:\n",
    "    ax.scatter(centroid[0], centroid[1], color='r', s=100)"
   ]
  },
  {
   "cell_type": "markdown",
   "metadata": {
    "pycharm": {
     "name": "#%% md\n"
    }
   },
   "source": [
    "## Exercise.2 - 98: Clustering\n",
    "<br>\n",
    "<font color='darkred', size=\"5\">\n",
    "    <center>\n",
    "        <b> 미리 구현해보기 15분 </b>\n",
    "    </center>\n",
    "</font>"
   ]
  },
  {
   "cell_type": "code",
   "execution_count": null,
   "metadata": {
    "pycharm": {
     "name": "#%%\n"
    }
   },
   "outputs": [],
   "source": [
    "# list for K clusters\n",
    "# each elements are lists for (x1, x2) coordinates\n",
    "clusters = [[] for _ in range(K)]\n",
    "print(clusters)\n",
    "\n",
    "for X in x_data:\n",
    "    # calculate the distance between\n",
    "    # the current data sample and the centroids\n",
    "    distances = list()\n",
    "    for centroid in centroids:\n",
    "        distance = ((centroid[0] - X[0])**2 + (centroid[1] - X[1])**2)**0.5\n",
    "        distances.append(distance)\n",
    "    \n",
    "    # calculate which centroid is the closest one\n",
    "    m, m_idx = distances[0], 0\n",
    "    for dist_idx, dist in enumerate(distances):\n",
    "        if dist < m:\n",
    "            m = dist\n",
    "            m_idx = dist_idx\n",
    "    \n",
    "    # allocate the point to the closest cluster\n",
    "    clusters[m_idx].append(X)\n",
    "\n",
    "# visualize the first result of clustering\n",
    "fig, ax = plt.subplots(figsize=(10, 10))\n",
    "for cluster in clusters:\n",
    "    x1_data = [cluster[data_idx][0] for data_idx in range(len(cluster))]\n",
    "    x2_data = [cluster[data_idx][1] for data_idx in range(len(cluster))]\n",
    "    ax.scatter(x1_data, x2_data)\n",
    "    \n",
    "for centroid in centroids:\n",
    "    ax.scatter(centroid[0], centroid[1], color='r', s=1000, edgecolor='orange', linewidth=5)\n"
   ]
  },
  {
   "cell_type": "markdown",
   "metadata": {
    "pycharm": {
     "name": "#%% md\n"
    }
   },
   "source": [
    "## Exercise.2 - 99: Centroid Update\n",
    "<br>\n",
    "<font color='darkred', size=\"5\">\n",
    "    <center>\n",
    "        <b> 미리 구현해보기 15분 </b>\n",
    "    </center>\n",
    "</font>"
   ]
  },
  {
   "cell_type": "code",
   "execution_count": null,
   "metadata": {
    "pycharm": {
     "name": "#%%\n"
    }
   },
   "outputs": [],
   "source": [
    "# list for each centroids' coordinates\n",
    "centroids = [[0, 0] for _ in range(K)]\n",
    "\n",
    "# accumulate the coordinates\n",
    "for cluster_idx, cluster in enumerate(clusters):\n",
    "    for X in cluster:\n",
    "        centroids[cluster_idx][0] += X[0]\n",
    "        centroids[cluster_idx][1] += X[1]\n",
    "    \n",
    "# caculate the center of masses\n",
    "for cluster_idx, cluster in enumerate(clusters):\n",
    "    centroids[cluster_idx][0] /= len(cluster)\n",
    "    centroids[cluster_idx][1] /= len(cluster)\n",
    "\n",
    "for centroid in centroids:\n",
    "    print(centroid)"
   ]
  },
  {
   "cell_type": "markdown",
   "metadata": {
    "pycharm": {
     "name": "#%% md\n"
    }
   },
   "source": [
    "## Exercise.2 - 100: K-means Clustering\n",
    "<br>\n",
    "<font color='darkred', size=\"5\">\n",
    "    <center>\n",
    "        <b> 미리 구현해보기 30분 </b>\n",
    "    </center>\n",
    "</font>"
   ]
  },
  {
   "cell_type": "code",
   "execution_count": null,
   "metadata": {
    "pycharm": {
     "name": "#%%\n"
    }
   },
   "outputs": [],
   "source": [
    "import random\n",
    "import numpy as np\n",
    "import matplotlib.pyplot as plt\n",
    "random.seed(2)\n",
    "\n",
    "# fig setting\n",
    "fig = plt.figure(figsize=(20, 20))\n",
    "axes = np.empty(shape=(0, 0))\n",
    "for row_idx in range(3):\n",
    "    for col_idx in range(3):\n",
    "        axes = np.append(axes, fig.add_subplot(3, 3, row_idx*3 + col_idx + 1))\n",
    "\n",
    "# set toy dataset's parameters\n",
    "K = 5\n",
    "n_iter = 8\n",
    "\n",
    "##### generate a toy dataset(start) #####\n",
    "n_class, n_data = 5, 100\n",
    "x_data = list()\n",
    "centers = list()\n",
    "for _ in range(n_class):\n",
    "    center = list()\n",
    "    for _ in range(2):\n",
    "        center.append(random.uniform(-10, 10))\n",
    "    centers.append(center)\n",
    "\n",
    "for class_idx in range(n_class):\n",
    "    center = centers[class_idx]\n",
    "    \n",
    "    class_x_data = list()\n",
    "    for _ in range(n_data):\n",
    "        x1 = center[0] + random.gauss(0, 1)\n",
    "        x2 = center[1] + random.gauss(0, 1)\n",
    "        class_x_data.append([x1, x2])\n",
    "        \n",
    "    x_data += class_x_data\n",
    "##### generate a toy dataset(end) #####\n",
    "\n",
    "# draw the dataset\n",
    "x1_data = [x_data[i][0] for i in range(n_data*n_class)]\n",
    "x2_data = [x_data[i][1] for i in range(n_data*n_class)]\n",
    "axes[0].scatter(x1_data, x2_data)\n",
    "\n",
    "    \n",
    "##### random choice of the initial centroids(start) #####\n",
    "random_indices = list()\n",
    "centroids = list()\n",
    "\n",
    "for _ in range(1000):\n",
    "    random_idx  = random.randint(0, n_data*n_class-1)\n",
    "    if random_idx not in random_indices:\n",
    "        random_indices.append(random_idx)\n",
    "        centroids.append(x_data[random_idx])\n",
    "    if len(random_indices) == K:\n",
    "        print(random_indices)\n",
    "        break\n",
    "##### random choice of the initial centroids(end) #####\n",
    "\n",
    "for centroid in centroids:\n",
    "    axes[0].scatter(centroid[0], centroid[1], color='r', s=1000, edgecolor='orange', linewidth=5)\n",
    "\n",
    "\n",
    "# clustering for n_iter times\n",
    "for iter_idx in range(n_iter):\n",
    "    ##### clustering(start) #####\n",
    "    clusters = [[] for _ in range(K)]\n",
    "\n",
    "    for X in x_data:\n",
    "        distances = list()\n",
    "        for centroid in centroids:\n",
    "            distance = ((centroid[0] - X[0])**2 + (centroid[1] - X[1])**2)**0.5\n",
    "            distances.append(distance)\n",
    "        m, m_idx = distances[0], 0\n",
    "        for dist_idx, dist in enumerate(distances):\n",
    "            if dist < m:\n",
    "                m = dist\n",
    "                m_idx = dist_idx\n",
    "\n",
    "        clusters[m_idx].append(X)\n",
    "    ##### clustering(end) #####\n",
    "    \n",
    "    for cluster in clusters:\n",
    "        x1_data = [cluster[data_idx][0] for data_idx in range(len(cluster))]\n",
    "        x2_data = [cluster[data_idx][1] for data_idx in range(len(cluster))]\n",
    "        axes[iter_idx+1].scatter(x1_data, x2_data)\n",
    "        axes[iter_idx+1].set_title('Iter: ' + str(iter_idx), fontsize=20)\n",
    "\n",
    "    ##### update centroids(start) #####\n",
    "    centroids = [[0, 0] for _ in range(K)]\n",
    "\n",
    "    for cluster_idx, cluster in enumerate(clusters):\n",
    "        for X in cluster:\n",
    "            centroids[cluster_idx][0] += X[0]\n",
    "            centroids[cluster_idx][1] += X[1]\n",
    "\n",
    "    for cluster_idx, cluster in enumerate(clusters):\n",
    "        centroids[cluster_idx][0] /= len(cluster)\n",
    "        centroids[cluster_idx][1] /= len(cluster)\n",
    "    ##### update centroids(end) #####"
   ]
  }
 ],
 "metadata": {
  "hide_input": false,
  "kernelspec": {
   "display_name": "Python 3",
   "language": "python",
   "name": "python3"
  },
  "language_info": {
   "codemirror_mode": {
    "name": "ipython",
    "version": 3
   },
   "file_extension": ".py",
   "mimetype": "text/x-python",
   "name": "python",
   "nbconvert_exporter": "python",
   "pygments_lexer": "ipython3",
   "version": "3.8.5"
  },
  "toc": {
   "base_numbering": 1,
   "nav_menu": {},
   "number_sections": true,
   "sideBar": true,
   "skip_h1_title": false,
   "title_cell": "Table of Contents",
   "title_sidebar": "Contents",
   "toc_cell": false,
   "toc_position": {
    "height": "712.222px",
    "left": "69px",
    "top": "95.59px",
    "width": "459.766px"
   },
   "toc_section_display": true,
   "toc_window_display": true
  }
 },
 "nbformat": 4,
 "nbformat_minor": 4
}